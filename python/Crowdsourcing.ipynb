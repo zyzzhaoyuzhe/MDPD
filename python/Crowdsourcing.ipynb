{
 "cells": [
  {
   "cell_type": "code",
   "execution_count": 1,
   "metadata": {},
   "outputs": [],
   "source": [
    "from __future__ import division\n",
    "\n",
    "import os\n",
    "import numpy as np\n",
    "import time, timeit\n",
    "import signal\n",
    "import scipy.io as scio\n",
    "from scipy import stats\n",
    "from scipy.sparse import coo_matrix\n",
    "from MDPD import *\n",
    "from MDPD.readers import *\n",
    "from MDPD import utils\n",
    "import matplotlib.pyplot as plt\n",
    "import matplotlib"
   ]
  },
  {
   "cell_type": "markdown",
   "metadata": {},
   "source": [
    "----\n",
    "## Read Data"
   ]
  },
  {
   "cell_type": "code",
   "execution_count": 2,
   "metadata": {},
   "outputs": [],
   "source": [
    "folder = '/media/vzhao/Data/crowdsourcing_datasets/'\n",
    "# folder = '/Users/vincent/Documents/Research/MDPD/crowdsourcing_datasets'"
   ]
  },
  {
   "cell_type": "code",
   "execution_count": null,
   "metadata": {},
   "outputs": [],
   "source": [
    "reader = Crowd_Sourcing_Readers(os.path.join(folder, 'bird', 'bluebird_crowd.txt'), os.path.join(folder, 'bird', 'bluebird_truth.txt'))\n",
    "train, label = reader.data, reader.labels\n",
    "lock = np.zeros(train.shape[1:], dtype=np.bool)\n",
    "print train.shape"
   ]
  },
  {
   "cell_type": "code",
   "execution_count": 3,
   "metadata": {},
   "outputs": [
    {
     "name": "stderr",
     "output_type": "stream",
     "text": [
      "2018-04-04 17:36:26,992 : INFO : Data has missing values. A new label is created to represent the missing values.\n"
     ]
    },
    {
     "name": "stdout",
     "output_type": "stream",
     "text": [
      "(807, 109, 5)\n"
     ]
    }
   ],
   "source": [
    "reader = Crowd_Sourcing_Readers(os.path.join(folder, 'dog', 'dog_crowd.txt'), os.path.join(folder, 'dog', 'dog_truth.txt'))\n",
    "train, label = reader.data, reader.labels\n",
    "lock = np.zeros(train.shape[1:],dtype=np.bool)\n",
    "lock[:, -1] = 1\n",
    "print train.shape"
   ]
  },
  {
   "cell_type": "code",
   "execution_count": null,
   "metadata": {},
   "outputs": [],
   "source": [
    "reader = Crowd_Sourcing_Readers(os.path.join(folder, 'rte', 'rte_crowd.txt'), os.path.join(folder, 'rte', 'rte_truth.txt'))\n",
    "train, label = reader.data, reader.labels\n",
    "lock = np.zeros(train.shape[1:],dtype=np.bool)\n",
    "lock[:, -1] = 1\n",
    "print train.shape"
   ]
  },
  {
   "cell_type": "code",
   "execution_count": null,
   "metadata": {},
   "outputs": [],
   "source": [
    "reader = Crowd_Sourcing_Readers(os.path.join(folder, 'trec', 'trec_crowd.txt'), os.path.join(folder, 'trec', 'trec_truth.txt'))\n",
    "train, label = reader.data, reader.labels\n",
    "lock = np.zeros(train.shape[1:],dtype=np.bool)\n",
    "lock[:, -1] = 1\n",
    "print train.shape"
   ]
  },
  {
   "cell_type": "code",
   "execution_count": null,
   "metadata": {},
   "outputs": [],
   "source": [
    "reader = Crowd_Sourcing_Readers(os.path.join(folder, 'web', 'web_crowd.txt'), os.path.join(folder, 'web', 'web_truth.txt'))\n",
    "train, label = reader.data, reader.labels\n",
    "lock = np.zeros(train.shape[1:],dtype=np.bool)\n",
    "lock[:, -1] = 1\n",
    "print train.shape"
   ]
  },
  {
   "cell_type": "markdown",
   "metadata": {},
   "source": [
    "---\n",
    "## Analysis"
   ]
  },
  {
   "cell_type": "markdown",
   "metadata": {},
   "source": [
    "### Original Mutual Information Residue"
   ]
  },
  {
   "cell_type": "code",
   "execution_count": 4,
   "metadata": {},
   "outputs": [
    {
     "name": "stdout",
     "output_type": "stream",
     "text": [
      "7.624746746624678e+37\n",
      "CPU times: user 75.1 ms, sys: 65.1 ms, total: 140 ms\n",
      "Wall time: 50.3 ms\n"
     ]
    }
   ],
   "source": [
    "%%time\n",
    "# Original mutual information residue (G score)\n",
    "score_origin = utils.Feature_Selection.MI_score(train, rm_diag=True, lock=lock)\n",
    "sigma_origin = score_origin.sum(axis=1)\n",
    "dim = train.shape[1]\n",
    "print np.sum(score_origin) / (dim * (dim-1))"
   ]
  },
  {
   "cell_type": "markdown",
   "metadata": {},
   "source": [
    "#### Reference G Statistics"
   ]
  },
  {
   "cell_type": "code",
   "execution_count": null,
   "metadata": {},
   "outputs": [],
   "source": [
    "percentages = [99,95,90,75,50]\n",
    "percentiles = [stats.chi2.ppf(x/100.,3) / (2 * train.shape[0]) for x in percentages]\n",
    "\n",
    "print 'Reference G statistis at {} percentile'.format(percentages)\n",
    "print percentiles"
   ]
  },
  {
   "cell_type": "markdown",
   "metadata": {},
   "source": [
    "### Mutual Information Residue if use the true label as the posterior distribution"
   ]
  },
  {
   "cell_type": "code",
   "execution_count": null,
   "metadata": {},
   "outputs": [],
   "source": [
    "# label to log_post\n",
    "def label2logpost(label, ncomp):\n",
    "    nsample = label.shape[0]\n",
    "    post = np.zeros((nsample, ncomp))\n",
    "    for i in xrange(nsample):\n",
    "        post[i, label[i]] = 1\n",
    "    return np.log(post)\n",
    "log_post = label2logpost(label,label.max()+1)\n",
    "utils.log_replace_neginf(log_post)"
   ]
  },
  {
   "cell_type": "code",
   "execution_count": null,
   "metadata": {},
   "outputs": [],
   "source": [
    "%%time\n",
    "score, weighted = MDPD.utils.Feature_Selection.MI_score_conditional(train, log_post, rm_diag=True, lock=lock)\n",
    "score_condition = score.sum(axis=1)\n",
    "print 'Mutual Information Residue if use the true label as the posterior distribution'\n",
    "print np.sum(score_condition * weighted[np.newaxis, :]) / (dim * (dim - 1))"
   ]
  },
  {
   "cell_type": "markdown",
   "metadata": {},
   "source": [
    "### [Plot] Mutual Information Residue if use the true label as the posterior distribution vs. Raw Residue"
   ]
  },
  {
   "cell_type": "code",
   "execution_count": null,
   "metadata": {
    "scrolled": true
   },
   "outputs": [],
   "source": [
    "plt.figure()\n",
    "idx = np.argsort(sigma_origin)[::-1]\n",
    "for k in xrange(train.shape[2]-1 if np.any(lock) else train.shape[2]):\n",
    "    plt.plot(score_condition[idx,k]/(dim-1))\n",
    "plt.plot(sigma_origin[idx] / (dim-1), '--')\n",
    "# plot reference G statistics\n",
    "for foo in percentiles[:3]:\n",
    "    plt.plot([0, len(score)], [foo, foo], 'c--')\n",
    "plt.show()"
   ]
  },
  {
   "cell_type": "code",
   "execution_count": null,
   "metadata": {},
   "outputs": [],
   "source": [
    "plt.figure()\n",
    "plt.plot(sigma_origin[idx] / (dim-1), '--')\n",
    "plt.plot(np.sum(score_condition[idx,:] * weighted[np.newaxis, :], axis=1) / (dim-1))\n",
    "# plot reference G statistics\n",
    "for foo in percentiles[:3]:\n",
    "    plt.plot([0, len(score)], [foo, foo], 'c--')\n",
    "plt.show()"
   ]
  },
  {
   "cell_type": "markdown",
   "metadata": {},
   "source": [
    "### Mixture Model with Feature Selection Performance"
   ]
  },
  {
   "cell_type": "markdown",
   "metadata": {},
   "source": [
    "#### Feature Ranking"
   ]
  },
  {
   "cell_type": "code",
   "execution_count": null,
   "metadata": {},
   "outputs": [],
   "source": [
    "%%time\n",
    "features, score = utils.Feature_Selection.MI_feature_ranking(train)"
   ]
  },
  {
   "cell_type": "markdown",
   "metadata": {},
   "source": [
    "#### Accuracy and Mutual Information Residue"
   ]
  },
  {
   "cell_type": "code",
   "execution_count": null,
   "metadata": {},
   "outputs": [],
   "source": [
    "Ntop = 15"
   ]
  },
  {
   "cell_type": "code",
   "execution_count": null,
   "metadata": {},
   "outputs": [],
   "source": [
    "# Feature Selection\n",
    "model = MDPD.MDPD()\n",
    "model.fit(train, ncomp=5, init='majority', verbose=False, features=features[:Ntop], epoch=50, lock=lock)\n",
    "model.accuracy(train, label)\n",
    "model.MI_residue(train)"
   ]
  },
  {
   "cell_type": "code",
   "execution_count": null,
   "metadata": {},
   "outputs": [],
   "source": [
    "# optional\n",
    "model.change_features(train, features=range(model.dim))\n",
    "model.accuracy(train, label)"
   ]
  },
  {
   "cell_type": "markdown",
   "metadata": {},
   "source": [
    "#### [Plot] Mutual Information Residue vs the Residue of the Raw Data"
   ]
  },
  {
   "cell_type": "code",
   "execution_count": null,
   "metadata": {},
   "outputs": [],
   "source": [
    "log_post = model.log_posterior(train)\n",
    "score, weighted = MDPD.utils.Feature_Selection.MI_score_conditional(train, log_post, rm_diag=True, lock=lock)\n",
    "score_condition = score.sum(axis=1)\n",
    "# sigmas = score.sum(axis=1) * weighted[np.newaxis, :]\n",
    "print 'Mutual Information Residue if use the true label as the posterior distribution'\n",
    "print np.sum(score_condition * weighted[np.newaxis, :]) / (dim * (dim - 1))"
   ]
  },
  {
   "cell_type": "code",
   "execution_count": null,
   "metadata": {},
   "outputs": [],
   "source": [
    "plt.figure()\n",
    "idx = np.argsort(sigma_origin)[::-1]\n",
    "for k in xrange(train.shape[2]-1 if np.any(lock) else train.shape[2]):\n",
    "    plt.plot(score_condition[idx,k]/(dim-1))\n",
    "plt.plot(sigma_origin[idx] / (dim-1), '--')\n",
    "# plot reference G statistics\n",
    "for foo in percentiles[:3]:\n",
    "    plt.plot([0, len(score)], [foo, foo], 'c--')\n",
    "plt.show()"
   ]
  },
  {
   "cell_type": "code",
   "execution_count": null,
   "metadata": {},
   "outputs": [],
   "source": [
    "plt.figure()\n",
    "plt.plot(sigma_origin[idx] / (dim-1), '--')\n",
    "plt.plot(np.sum(score_condition[idx, :] * weighted[np.newaxis, :], axis=1) / (dim-1))\n",
    "# plot reference G statistics\n",
    "for foo in percentiles[:3]:\n",
    "    plt.plot([0, len(score)], [foo, foo], 'c--')\n",
    "plt.show()"
   ]
  },
  {
   "cell_type": "markdown",
   "metadata": {},
   "source": [
    "### Vanilla Model Performance\n",
    "#### Accuracy"
   ]
  },
  {
   "cell_type": "code",
   "execution_count": null,
   "metadata": {},
   "outputs": [],
   "source": [
    "# basic model with majority vote initialization\n",
    "model_basic = MDPD.MDPD()\n",
    "model_basic.fit(train, ncomp=4, init='majority', verbose=False, epoch=50, lock=lock)\n",
    "model_basic.accuracy(train, label)"
   ]
  },
  {
   "cell_type": "markdown",
   "metadata": {},
   "source": [
    "#### Mutual Information Residue"
   ]
  },
  {
   "cell_type": "code",
   "execution_count": null,
   "metadata": {},
   "outputs": [],
   "source": [
    "model_basic.MI_residue(train)\n",
    "# MI residue conditional on the features (although basic model is using all features to learn the model)\n",
    "features, score = utils.Feature_Selection.MI_feature_ranking(train)\n",
    "features = np.array(features)\n",
    "log_post = model_basic.log_posterior(train)\n",
    "score, weights = utils.Feature_Selection.MI_score_conditional(train,log_post,rm_diag=True, lock=lock)\n",
    "score_selected = score[features[:Ntop, np.newaxis], features[:Ntop]]\n",
    "print 'MI residue conditional on the features (although basic model is using all features to learn the model)'\n",
    "print np.sum(score_selected.sum(axis=(0,1)) * weights) / (Ntop * (Ntop - 1))"
   ]
  }
 ],
 "metadata": {
  "kernelspec": {
   "display_name": "Python 2",
   "language": "python",
   "name": "python2"
  },
  "language_info": {
   "codemirror_mode": {
    "name": "ipython",
    "version": 2
   },
   "file_extension": ".py",
   "mimetype": "text/x-python",
   "name": "python",
   "nbconvert_exporter": "python",
   "pygments_lexer": "ipython2",
   "version": "2.7.14"
  }
 },
 "nbformat": 4,
 "nbformat_minor": 2
}
