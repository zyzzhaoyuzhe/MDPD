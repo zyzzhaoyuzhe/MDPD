{
 "cells": [
  {
   "cell_type": "code",
   "execution_count": 1,
   "metadata": {},
   "outputs": [],
   "source": [
    "from __future__ import division\n",
    "\n",
    "import os\n",
    "import numpy as np\n",
    "import time, timeit\n",
    "import signal\n",
    "import scipy.io as scio\n",
    "from scipy.sparse import coo_matrix\n",
    "from MDPD import *\n",
    "from MDPD.readers import *\n",
    "import matplotlib.pyplot as plt\n",
    "import matplotlib"
   ]
  },
  {
   "cell_type": "markdown",
   "metadata": {},
   "source": [
    "----\n",
    "## Read Data"
   ]
  },
  {
   "cell_type": "code",
   "execution_count": 2,
   "metadata": {},
   "outputs": [],
   "source": [
    "folder = '/media/vzhao/Data/crowdsourcing_datasets/bird'\n",
    "train = Crowd_Sourcing_Readers.read_data(os.path.join(folder, 'bluebird_crowd.txt'))\n",
    "label = Crowd_Sourcing_Readers.read_label(os.path.join(folder, 'bluebird_truth.txt'))"
   ]
  },
  {
   "cell_type": "code",
   "execution_count": null,
   "metadata": {},
   "outputs": [],
   "source": [
    "folder = '/media/vzhao/Data/crowdsourcing_datasets/dog'\n",
    "train = Crowd_Sourcing_Readers.read_data(os.path.join(folder, 'dog_crowd.txt'))\n",
    "label = Crowd_Sourcing_Readers.read_label(os.path.join(folder, 'dog_truth.txt'))"
   ]
  },
  {
   "cell_type": "code",
   "execution_count": null,
   "metadata": {},
   "outputs": [],
   "source": [
    "folder = '/media/vzhao/Data/crowdsourcing_datasets/rte'\n",
    "train = Crowd_Sourcing_Readers.read_data(os.path.join(folder, 'rte_crowd.txt'))\n",
    "label = Crowd_Sourcing_Readers.read_label(os.path.join(folder, 'rte_truth.txt'))"
   ]
  },
  {
   "cell_type": "code",
   "execution_count": null,
   "metadata": {},
   "outputs": [],
   "source": [
    "folder = '/media/vzhao/Data/crowdsourcing_datasets/trec'\n",
    "train = Crowd_Sourcing_Readers.read_data(os.path.join(folder, 'trec_crowd.txt'))\n",
    "label = Crowd_Sourcing_Readers.read_label(os.path.join(folder, 'trec_truth.txt'))"
   ]
  },
  {
   "cell_type": "code",
   "execution_count": null,
   "metadata": {},
   "outputs": [],
   "source": [
    "folder = '/media/vzhao/Data/crowdsourcing_datasets/dog'\n",
    "train = Crowd_Sourcing_Readers.read_data(os.path.join(folder, 'dog_crowd.txt'))\n",
    "label = Crowd_Sourcing_Readers.read_label(os.path.join(folder, 'dog_truth.txt'))"
   ]
  },
  {
   "cell_type": "markdown",
   "metadata": {},
   "source": [
    "---\n",
    "## Analysis"
   ]
  },
  {
   "cell_type": "code",
   "execution_count": 3,
   "metadata": {},
   "outputs": [
    {
     "name": "stdout",
     "output_type": "stream",
     "text": [
      "0.03756253829869128\n"
     ]
    },
    {
     "name": "stderr",
     "output_type": "stream",
     "text": [
      "MDPD/utils.py:173: RuntimeWarning: divide by zero encountered in log\n",
      "  pmi = second * (np.log(second) - logfirst)\n",
      "MDPD/utils.py:173: RuntimeWarning: invalid value encountered in multiply\n",
      "  pmi = second * (np.log(second) - logfirst)\n"
     ]
    }
   ],
   "source": [
    "# Original mutual information residue (G score)\n",
    "score = MDPD.utils.Feature_Selection.MI_score(train, rm_diag=True)\n",
    "dim = train.shape[1]\n",
    "print np.sum(score) / (dim * (dim-1))"
   ]
  },
  {
   "cell_type": "code",
   "execution_count": 4,
   "metadata": {},
   "outputs": [
    {
     "name": "stderr",
     "output_type": "stream",
     "text": [
      "2018-03-29 11:30:11,102 : INFO : Training an MDPD with dimension 39, sample size 108, vocab size 2 and the target number of components 2\n",
      "2018-03-29 11:30:11,160 : INFO : ACCURACY: 89.81%\n"
     ]
    },
    {
     "data": {
      "text/plain": [
       "0.8981481481481481"
      ]
     },
     "execution_count": 4,
     "metadata": {},
     "output_type": "execute_result"
    }
   ],
   "source": [
    "# basic model with majority vote initialization\n",
    "model = MDPD.MDPD()\n",
    "model.fit(train, ncomp=2, init='majority', verbose=False, niter=50)\n",
    "model.accuracy(train, label)"
   ]
  },
  {
   "cell_type": "code",
   "execution_count": 5,
   "metadata": {},
   "outputs": [
    {
     "name": "stderr",
     "output_type": "stream",
     "text": [
      "MDPD/utils.py:200: RuntimeWarning: divide by zero encountered in log\n",
      "  pmi = second * (np.log(second) - logfirst)\n",
      "MDPD/utils.py:200: RuntimeWarning: invalid value encountered in multiply\n",
      "  pmi = second * (np.log(second) - logfirst)\n",
      "2018-03-29 11:30:14,236 : INFO : The mutual information residue is 0.0145765907465\n",
      "2018-03-29 11:30:14,236 : INFO : The mutual information residue of the feature set is 0.0145765907465\n"
     ]
    }
   ],
   "source": [
    "model.MI_residue(train)"
   ]
  },
  {
   "cell_type": "code",
   "execution_count": 6,
   "metadata": {},
   "outputs": [
    {
     "name": "stderr",
     "output_type": "stream",
     "text": [
      "2018-03-29 11:30:49,954 : INFO : Training an MDPD with dimension 39, sample size 108, vocab size 2 and the target number of components 2\n",
      "MDPD/utils.py:85: RuntimeWarning: divide by zero encountered in log\n",
      "  logpost = np.log(votes / votes.sum(axis=1)[:, np.newaxis])\n",
      "2018-03-29 11:30:49,991 : INFO : ACCURACY: 91.67%\n",
      "2018-03-29 11:30:49,995 : INFO : The mutual information residue is 0.014768358283\n",
      "2018-03-29 11:30:49,996 : INFO : The mutual information residue of the feature set is 0.0174441723022\n"
     ]
    },
    {
     "data": {
      "image/png": "[encoded data removed]",
      "text/plain": [
       "<matplotlib.figure.Figure at 0x7f01a0a10110>"
      ]
     },
     "metadata": {},
     "output_type": "display_data"
    }
   ],
   "source": [
    "# Feature Selection\n",
    "features, score = MDPD.utils.Feature_Selection.MI_feature_selection(train, 15)\n",
    "plt.plot(score)\n",
    "model.fit(train, ncomp=2, init='majority', verbose=False, features=features, niter=50)\n",
    "model.accuracy(train, label)\n",
    "model.MI_residue(train)"
   ]
  },
  {
   "cell_type": "code",
   "execution_count": 7,
   "metadata": {},
   "outputs": [
    {
     "data": {
      "text/plain": [
       "array([16,  7, 29, 34, 26, 24,  0, 31, 11,  8, 36, 37, 15, 19, 28])"
      ]
     },
     "execution_count": 7,
     "metadata": {},
     "output_type": "execute_result"
    }
   ],
   "source": [
    "model.features"
   ]
  },
  {
   "cell_type": "code",
   "execution_count": 8,
   "metadata": {},
   "outputs": [
    {
     "name": "stderr",
     "output_type": "stream",
     "text": [
      "2018-03-29 11:31:20,696 : INFO : ACCURACY: 90.74%\n"
     ]
    },
    {
     "data": {
      "text/plain": [
       "0.9074074074074074"
      ]
     },
     "execution_count": 8,
     "metadata": {},
     "output_type": "execute_result"
    }
   ],
   "source": [
    "model.change_features(train, features=range(model.dim))\n",
    "model.accuracy(train, label)"
   ]
  },
  {
   "cell_type": "code",
   "execution_count": null,
   "metadata": {},
   "outputs": [],
   "source": []
  }
 ],
 "metadata": {
  "kernelspec": {
   "display_name": "Python 2",
   "language": "python",
   "name": "python2"
  },
  "language_info": {
   "codemirror_mode": {
    "name": "ipython",
    "version": 2
   },
   "file_extension": ".py",
   "mimetype": "text/x-python",
   "name": "python",
   "nbconvert_exporter": "python",
   "pygments_lexer": "ipython2",
   "version": "2.7.14"
  }
 },
 "nbformat": 4,
 "nbformat_minor": 2
}
