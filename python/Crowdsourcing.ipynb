{
 "cells": [
  {
   "cell_type": "code",
   "execution_count": 1,
   "metadata": {},
   "outputs": [],
   "source": [
    "from __future__ import division\n",
    "\n",
    "import os\n",
    "import numpy as np\n",
    "import time, timeit\n",
    "import signal\n",
    "import scipy.io as scio\n",
    "from scipy import stats\n",
    "from scipy.sparse import coo_matrix\n",
    "from MDPD import *\n",
    "from MDPD.readers import *\n",
    "from MDPD import utils\n",
    "import matplotlib.pyplot as plt\n",
    "import matplotlib"
   ]
  },
  {
   "cell_type": "markdown",
   "metadata": {},
   "source": [
    "----\n",
    "## Read Data"
   ]
  },
  {
   "cell_type": "code",
   "execution_count": null,
   "metadata": {},
   "outputs": [],
   "source": [
    "folder = '/media/vzhao/Data/crowdsourcing_datasets/bird'\n",
    "train = Crowd_Sourcing_Readers.read_data(os.path.join(folder, 'bluebird_crowd.txt'))\n",
    "label = Crowd_Sourcing_Readers.read_label(os.path.join(folder, 'bluebird_truth.txt'))\n",
    "lock = np.zeros(train.shape[1:])"
   ]
  },
  {
   "cell_type": "code",
   "execution_count": null,
   "metadata": {},
   "outputs": [],
   "source": [
    "folder = '/media/vzhao/Data/crowdsourcing_datasets/dog'\n",
    "train = Crowd_Sourcing_Readers.read_data(os.path.join(folder, 'dog_crowd.txt'))\n",
    "label = Crowd_Sourcing_Readers.read_label(os.path.join(folder, 'dog_truth.txt'))\n"
   ]
  },
  {
   "cell_type": "code",
   "execution_count": null,
   "metadata": {},
   "outputs": [],
   "source": [
    "folder = '/media/vzhao/Data/crowdsourcing_datasets/rte'\n",
    "train = Crowd_Sourcing_Readers.read_data(os.path.join(folder, 'rte_crowd.txt'))\n",
    "label = Crowd_Sourcing_Readers.read_label(os.path.join(folder, 'rte_truth.txt'))\n",
    "lock = np.zeros(train.shape[1:])\n",
    "lock[:, -1] = 1"
   ]
  },
  {
   "cell_type": "code",
   "execution_count": null,
   "metadata": {},
   "outputs": [],
   "source": [
    "folder = '/media/vzhao/Data/crowdsourcing_datasets/trec'\n",
    "train = Crowd_Sourcing_Readers.read_data(os.path.join(folder, 'trec_crowd.txt'))\n",
    "label = Crowd_Sourcing_Readers.read_label(os.path.join(folder, 'trec_truth.txt'))"
   ]
  },
  {
   "cell_type": "code",
   "execution_count": 2,
   "metadata": {},
   "outputs": [
    {
     "name": "stderr",
     "output_type": "stream",
     "text": [
      "2018-04-02 17:34:42,563 : INFO : Data has missing values. A new label is created to represent the missing values.\n",
      "2018-04-02 17:34:42,583 : INFO : The Data has 177 dimensions, 2665 samples, and 6 volcabulary size.\n"
     ]
    }
   ],
   "source": [
    "folder = '/media/vzhao/Data/crowdsourcing_datasets/web'\n",
    "train = Crowd_Sourcing_Readers.read_data(os.path.join(folder, 'web_crowd.txt'))\n",
    "label = Crowd_Sourcing_Readers.read_label(os.path.join(folder, 'web_truth.txt'))\n",
    "lock = np.zeros(train.shape[1:])\n",
    "lock[:, -1] = 1"
   ]
  },
  {
   "cell_type": "markdown",
   "metadata": {},
   "source": [
    "---\n",
    "## Analysis"
   ]
  },
  {
   "cell_type": "markdown",
   "metadata": {},
   "source": [
    "### Original Mutual Information Residue"
   ]
  },
  {
   "cell_type": "code",
   "execution_count": 12,
   "metadata": {},
   "outputs": [
    {
     "name": "stdout",
     "output_type": "stream",
     "text": [
      "0.000758252607433816\n"
     ]
    }
   ],
   "source": [
    "# Original mutual information residue (G score)\n",
    "score = MDPD.utils.Feature_Selection.MI_score(train, rm_diag=True, lock=lock)\n",
    "dim = train.shape[1]\n",
    "print np.sum(score) / (dim * (dim-1))"
   ]
  },
  {
   "cell_type": "markdown",
   "metadata": {},
   "source": [
    "### Mutual Information Residue if use the true label as the posterior distribution"
   ]
  },
  {
   "cell_type": "code",
   "execution_count": 13,
   "metadata": {},
   "outputs": [
    {
     "name": "stderr",
     "output_type": "stream",
     "text": [
      "/home/vzhao/.virtualenvs/tf/lib/python2.7/site-packages/ipykernel_launcher.py:7: RuntimeWarning: divide by zero encountered in log\n",
      "  import sys\n"
     ]
    }
   ],
   "source": [
    "# label to log_post\n",
    "def label2logpost(label, ncomp):\n",
    "    nsample = label.shape[0]\n",
    "    post = np.zeros((nsample, ncomp))\n",
    "    for i in xrange(nsample):\n",
    "        post[i, label[i]] = 1\n",
    "    return np.log(post)\n",
    "log_post = label2logpost(label,5)"
   ]
  },
  {
   "cell_type": "code",
   "execution_count": 14,
   "metadata": {},
   "outputs": [
    {
     "name": "stdout",
     "output_type": "stream",
     "text": [
      "Mutual Information Residue if use the true label as the posterior distribution\n",
      "0.0012013654210870743\n"
     ]
    }
   ],
   "source": [
    "score, weighted = MDPD.utils.Feature_Selection.MI_score_conditional(train, log_post, rm_diag=True)\n",
    "sigmas = score.sum(axis=1) * weighted[np.newaxis, :]\n",
    "print 'Mutual Information Residue if use the true label as the posterior distribution'\n",
    "print np.sum(sigmas) / (dim * (dim - 1))\n"
   ]
  },
  {
   "cell_type": "code",
   "execution_count": 9,
   "metadata": {},
   "outputs": [
    {
     "data": {
      "text/plain": [
       "(177, 5)"
      ]
     },
     "execution_count": 9,
     "metadata": {},
     "output_type": "execute_result"
    }
   ],
   "source": [
    "sigmas.shape"
   ]
  },
  {
   "cell_type": "code",
   "execution_count": 7,
   "metadata": {},
   "outputs": [
    {
     "data": {
      "text/plain": [
       "(2665, 177, 6)"
      ]
     },
     "execution_count": 7,
     "metadata": {},
     "output_type": "execute_result"
    }
   ],
   "source": [
    "train.shape"
   ]
  },
  {
   "cell_type": "code",
   "execution_count": null,
   "metadata": {},
   "outputs": [],
   "source": [
    "ss = score.sum(axis=1) * weighted[np.newaxis, :]"
   ]
  },
  {
   "cell_type": "code",
   "execution_count": null,
   "metadata": {},
   "outputs": [],
   "source": [
    "ss.shape"
   ]
  },
  {
   "cell_type": "code",
   "execution_count": null,
   "metadata": {
    "scrolled": true
   },
   "outputs": [],
   "source": [
    "plt.plot(ss[features,0]/38)\n",
    "plt.plot(ss[features,1]/38)\n",
    "plt.plot(score/38, '--')\n",
    "features"
   ]
  },
  {
   "cell_type": "markdown",
   "metadata": {},
   "source": [
    "### Reference G Statistics"
   ]
  },
  {
   "cell_type": "code",
   "execution_count": null,
   "metadata": {},
   "outputs": [],
   "source": [
    "percentages = [99,95,90,75,50]\n",
    "percentiles = [stats.chi2.ppf(x/100.,3) / (2 * train.shape[0]) for x in percentages]\n",
    "\n",
    "print 'Reference G statistis at {} percentile'.format(percentages)\n",
    "print percentiles"
   ]
  },
  {
   "cell_type": "markdown",
   "metadata": {},
   "source": [
    "### Mixture Model with Feature Selection Performance"
   ]
  },
  {
   "cell_type": "markdown",
   "metadata": {},
   "source": [
    "#### Feature Ranking"
   ]
  },
  {
   "cell_type": "code",
   "execution_count": null,
   "metadata": {},
   "outputs": [],
   "source": [
    "features, score = utils.Feature_Selection.MI_feature_ranking(train)\n",
    "plt.plot(score/(train.shape[1]-1))\n",
    "# plot reference G statistics\n",
    "for foo in percentiles:\n",
    "    plt.plot([0, len(score)], [foo, foo], 'c--')\n",
    "features"
   ]
  },
  {
   "cell_type": "markdown",
   "metadata": {},
   "source": [
    "#### Accuracy and Mutual Information Residue"
   ]
  },
  {
   "cell_type": "code",
   "execution_count": null,
   "metadata": {},
   "outputs": [],
   "source": [
    "Ntop = 9"
   ]
  },
  {
   "cell_type": "code",
   "execution_count": null,
   "metadata": {},
   "outputs": [],
   "source": [
    "# Feature Selection\n",
    "model = MDPD.MDPD()\n",
    "model.fit(train, ncomp=5, init='majority', verbose=False, features=features[:Ntop], niter=50, lock=lock)\n",
    "model.accuracy(train, label)\n",
    "model.MI_residue(train)"
   ]
  },
  {
   "cell_type": "code",
   "execution_count": null,
   "metadata": {},
   "outputs": [],
   "source": [
    "# optional\n",
    "model.change_features(train, features=range(model.dim))\n",
    "model.accuracy(train, label)"
   ]
  },
  {
   "cell_type": "markdown",
   "metadata": {},
   "source": [
    "### Vanilla Model Performance\n",
    "#### Accuracy"
   ]
  },
  {
   "cell_type": "code",
   "execution_count": null,
   "metadata": {},
   "outputs": [],
   "source": [
    "# basic model with majority vote initialization\n",
    "model_basic = MDPD.MDPD()\n",
    "model_basic.fit(train, ncomp=4, init='majority', verbose=False, niter=50, lock=lock)\n",
    "model_basic.accuracy(train, label)"
   ]
  },
  {
   "cell_type": "markdown",
   "metadata": {},
   "source": [
    "#### Mutual Information Residue"
   ]
  },
  {
   "cell_type": "code",
   "execution_count": null,
   "metadata": {},
   "outputs": [],
   "source": [
    "model_basic.MI_residue(train, lock)\n",
    "# MI residue conditional on the features (although basic model is using all features to learn the model)\n",
    "features, score = utils.Feature_Selection.MI_feature_ranking(train)\n",
    "features = np.array(features)\n",
    "log_post = model_basic.log_posterior(train)\n",
    "score, weights = utils.Feature_Selection.MI_score_conditional(train,log_post,rm_diag=True, lock=lock)\n",
    "score_selected = score[features[:Ntop, np.newaxis], features[:Ntop]]\n",
    "print 'MI residue conditional on the features (although basic model is using all features to learn the model)'\n",
    "print np.sum(score_selected.sum(axis=(0,1)) * weights) / (Ntop * (Ntop - 1))"
   ]
  },
  {
   "cell_type": "markdown",
   "metadata": {},
   "source": [
    "### "
   ]
  },
  {
   "cell_type": "code",
   "execution_count": null,
   "metadata": {},
   "outputs": [],
   "source": []
  }
 ],
 "metadata": {
  "kernelspec": {
   "display_name": "Python 2",
   "language": "python",
   "name": "python2"
  },
  "language_info": {
   "codemirror_mode": {
    "name": "ipython",
    "version": 2
   },
   "file_extension": ".py",
   "mimetype": "text/x-python",
   "name": "python",
   "nbconvert_exporter": "python",
   "pygments_lexer": "ipython2",
   "version": "2.7.14"
  }
 },
 "nbformat": 4,
 "nbformat_minor": 2
}
