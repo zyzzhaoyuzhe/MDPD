{
 "cells": [
  {
   "cell_type": "code",
   "execution_count": 1,
   "metadata": {},
   "outputs": [],
   "source": [
    "from __future__ import division\n",
    "\n",
    "import os\n",
    "import numpy as np\n",
    "import time, timeit\n",
    "import signal\n",
    "import scipy.io as scio\n",
    "from scipy import stats\n",
    "from scipy.sparse import coo_matrix\n",
    "from MDPD.readers import *\n",
    "from MDPD import utils, MDPD\n",
    "import matplotlib.pyplot as plt\n",
    "import matplotlib\n",
    "import pickle"
   ]
  },
  {
   "cell_type": "markdown",
   "metadata": {},
   "source": [
    "----\n",
    "## Read Data"
   ]
  },
  {
   "cell_type": "code",
   "execution_count": 6,
   "metadata": {},
   "outputs": [],
   "source": [
    "folder = '/media/vzhao/Data/crowdsourcing_datasets/'\n",
    "# folder = '/Users/vincent/Documents/Research/MDPD/crowdsourcing_datasets'"
   ]
  },
  {
   "cell_type": "code",
   "execution_count": null,
   "metadata": {},
   "outputs": [],
   "source": [
    "reader = Crowd_Sourcing_Readers(os.path.join(folder, 'bird', 'bluebird_crowd.txt'), os.path.join(folder, 'bird', 'bluebird_truth.txt'))\n",
    "train, label = reader.data, reader.labels\n",
    "lock = np.zeros(train.shape[1:], dtype=np.bool)\n",
    "print(train.shape)"
   ]
  },
  {
   "cell_type": "code",
   "execution_count": null,
   "metadata": {},
   "outputs": [],
   "source": [
    "reader = Crowd_Sourcing_Readers(os.path.join(folder, 'dog', 'dog_crowd.txt'), os.path.join(folder, 'dog', 'dog_truth.txt'))\n",
    "train, label = reader.data, reader.labels\n",
    "lock = np.zeros(train.shape[1:],dtype=np.bool)\n",
    "lock[:, -1] = 1\n",
    "print train.shape"
   ]
  },
  {
   "cell_type": "code",
   "execution_count": null,
   "metadata": {},
   "outputs": [],
   "source": [
    "reader = Crowd_Sourcing_Readers(os.path.join(folder, 'rte', 'rte_crowd.txt'), os.path.join(folder, 'rte', 'rte_truth.txt'))\n",
    "train, label = reader.data, reader.labels\n",
    "lock = np.zeros(train.shape[1:],dtype=np.bool)\n",
    "lock[:, -1] = 1\n",
    "print(train.shape)"
   ]
  },
  {
   "cell_type": "code",
   "execution_count": null,
   "metadata": {},
   "outputs": [],
   "source": [
    "reader = Crowd_Sourcing_Readers(os.path.join(folder, 'trec', 'trec_crowd.txt'), os.path.join(folder, 'trec', 'trec_truth.txt'))\n",
    "train, label = reader.data, reader.labels\n",
    "lock = np.zeros(train.shape[1:],dtype=np.bool)\n",
    "lock[:, -1] = 1\n",
    "print train.shape"
   ]
  },
  {
   "cell_type": "code",
   "execution_count": 7,
   "metadata": {},
   "outputs": [
    {
     "name": "stderr",
     "output_type": "stream",
     "text": [
      "2018-05-17 11:38:12,791 : INFO : Data has missing values. A new label is created to represent the missing values.\n"
     ]
    },
    {
     "name": "stdout",
     "output_type": "stream",
     "text": [
      "(2653, 177, 6)\n"
     ]
    }
   ],
   "source": [
    "reader = Crowd_Sourcing_Readers(os.path.join(folder, 'web', 'web_crowd.txt'), os.path.join(folder, 'web', 'web_truth.txt'))\n",
    "train, label = reader.data, reader.labels\n",
    "lock = np.zeros(train.shape[1:],dtype=np.bool)\n",
    "lock[:, -1] = 1\n",
    "print(train.shape)"
   ]
  },
  {
   "cell_type": "markdown",
   "metadata": {},
   "source": [
    "#### Update global variables"
   ]
  },
  {
   "cell_type": "code",
   "execution_count": 8,
   "metadata": {},
   "outputs": [],
   "source": [
    "NSAMPLE, DIM, NVOCAB = train.shape\n",
    "EFF_NVOCAB = NVOCAB-1 if reader.is_missing_value else NVOCAB"
   ]
  },
  {
   "cell_type": "markdown",
   "metadata": {},
   "source": [
    "---\n",
    "# Analysis"
   ]
  },
  {
   "cell_type": "markdown",
   "metadata": {},
   "source": [
    "## Original Mutual Information Residue"
   ]
  },
  {
   "cell_type": "code",
   "execution_count": null,
   "metadata": {},
   "outputs": [],
   "source": [
    "%%time\n",
    "# Original mutual information residue (G score)\n",
    "score_origin = utils.Feature_Selection.MI_score(train, rm_diag=True, lock=lock)\n",
    "sigma_origin = score_origin.sum(axis=1)\n",
    "print(np.sum(score_origin) / (DIM * (DIM-1)))"
   ]
  },
  {
   "cell_type": "markdown",
   "metadata": {},
   "source": [
    "#### Reference G Statistics"
   ]
  },
  {
   "cell_type": "code",
   "execution_count": null,
   "metadata": {},
   "outputs": [],
   "source": [
    "percentages = [99,95,90,75,50]\n",
    "percentiles = [stats.chi2.ppf(x/100., (EFF_NVOCAB**2 - 1)) / (2 * NSAMPLE) for x in percentages]\n",
    "print('Reference G statistis at {} percentile'.format(percentages))\n",
    "print(percentiles)"
   ]
  },
  {
   "cell_type": "markdown",
   "metadata": {},
   "source": [
    "---\n",
    "## Mutual Information Residue if use the true label as the posterior distribution"
   ]
  },
  {
   "cell_type": "code",
   "execution_count": null,
   "metadata": {},
   "outputs": [],
   "source": [
    "# label to log_post\n",
    "def label2logpost(label, ncomp):\n",
    "    nsample = label.shape[0]\n",
    "    post = np.zeros((nsample, ncomp))\n",
    "    for i in range(nsample):\n",
    "        post[i, label[i]] = 1\n",
    "    return np.log(post)\n",
    "log_post = label2logpost(label,label.max()+1)\n",
    "utils.log_replace_neginf(log_post)"
   ]
  },
  {
   "cell_type": "code",
   "execution_count": null,
   "metadata": {},
   "outputs": [],
   "source": [
    "%%time\n",
    "score, weights = MDPD.utils.Feature_Selection.MI_score_conditional(train, log_post, rm_diag=True, lock=lock)\n",
    "score_condition = score.sum(axis=1)\n",
    "print('Mutual Information Residue if use the true label as the posterior distribution')\n",
    "print(np.sum(score_condition * weights[np.newaxis, :]) / (DIM * (DIM - 1)))"
   ]
  },
  {
   "cell_type": "markdown",
   "metadata": {},
   "source": [
    "#### [Plot] Mutual Information Residue if use the true label as the posterior distribution vs. Raw Residue"
   ]
  },
  {
   "cell_type": "code",
   "execution_count": null,
   "metadata": {
    "scrolled": true
   },
   "outputs": [],
   "source": [
    "plt.figure()\n",
    "idx = np.argsort(sigma_origin)[::-1]\n",
    "for k in range(train.shape[2]-1 if np.any(lock) else train.shape[2]):\n",
    "    plt.plot(score_condition[idx,k]/(DIM - 1))\n",
    "plt.plot(sigma_origin[idx] / (DIM - 1), '--')\n",
    "# plot reference G statistics\n",
    "for foo in percentiles[:3]:\n",
    "    plt.plot([0, len(score)], [foo, foo], 'c--')\n",
    "plt.show()"
   ]
  },
  {
   "cell_type": "code",
   "execution_count": null,
   "metadata": {},
   "outputs": [],
   "source": [
    "plt.figure()\n",
    "plt.plot(sigma_origin[idx] / (DIM - 1), '--')\n",
    "plt.plot(np.sum(score_condition[idx,:] * weights[np.newaxis, :], axis=1) / (DIM - 1))\n",
    "# plot reference G statistics\n",
    "for foo in percentiles[:3]:\n",
    "    plt.plot([0, len(score)], [foo, foo], 'c--')\n",
    "plt.show()"
   ]
  },
  {
   "cell_type": "markdown",
   "metadata": {},
   "source": [
    "---\n",
    "## Mixture Model with Feature Selection"
   ]
  },
  {
   "cell_type": "markdown",
   "metadata": {},
   "source": [
    "#### Feature Ranking"
   ]
  },
  {
   "cell_type": "code",
   "execution_count": 9,
   "metadata": {},
   "outputs": [
    {
     "name": "stdout",
     "output_type": "stream",
     "text": [
      "[  2   7   0  11  12   6   1  15  25  13  10   3  44  32 102   5  69  38\n",
      "  29  36   8  62 106  58 103  56  46  27  24  23  52  51  28  41  21  31\n",
      "  74  68  33  35  77  99  75  64 114  50  82  17 142 109 117  65 107 100\n",
      "  30 129  93  19  26 105  40  86  98  90  59  37  91 112  78  34  81  67\n",
      " 120 126   4  70 134  61   9  83  47  18 130  71  49 135 124  96 127  92\n",
      " 119  72  88 104  48 108  55  85 144  14 118  16  39  87 101  60 139  89\n",
      "  54 155 140 132  63  84  94 113 138 145  95 158  22  42 116 165  80  57\n",
      "  45  66 164 143  53 147  76 125 161 123 128 153 141 121  79  20  97 131\n",
      " 111 160 122  43 157  73 115 133 110 156 148 150 173 137 146 162 168 159\n",
      " 175 169 167 176 163 171 136 172 166 151 154 170 149 174 152]\n",
      "CPU times: user 481 ms, sys: 60.8 ms, total: 541 ms\n",
      "Wall time: 308 ms\n"
     ]
    },
    {
     "name": "stderr",
     "output_type": "stream",
     "text": [
      "/home/vzhao/Documents/Projects/MDPD/python/MDPD/utils.py:238: RuntimeWarning: divide by zero encountered in log\n",
      "  log_second_scaled = np.log(second_masked)\n"
     ]
    }
   ],
   "source": [
    "%%time\n",
    "score = utils.Feature_Selection.MI_score(train, lock=lock)\n",
    "sigma = score.sum(axis=1)\n",
    "features = np.argsort(sigma)[::-1]\n",
    "sigma = sigma[features]\n",
    "# features, sigma = utils.Feature_Selection.MI_feature_ranking(train, lock=lock)\n",
    "print(features)"
   ]
  },
  {
   "cell_type": "markdown",
   "metadata": {},
   "source": [
    "#### Accuracy and Mutual Information Residue"
   ]
  },
  {
   "cell_type": "code",
   "execution_count": 13,
   "metadata": {},
   "outputs": [],
   "source": [
    "Ntop = 50"
   ]
  },
  {
   "cell_type": "code",
   "execution_count": 14,
   "metadata": {},
   "outputs": [
    {
     "name": "stderr",
     "output_type": "stream",
     "text": [
      "2018-05-17 11:40:16,688 : INFO : Training an MDPD using batch EM \n",
      "\t dimension: 177 \n",
      "\t features: 50 \n",
      "\t sample size: 2653 \n",
      "\t vocab size: 6 \n",
      "\t the target number of components: 5\n",
      "\t epoch: 50\n",
      "\t initiated by: spectral\n",
      "2018-05-17 11:40:33,682 : INFO : ACCURACY: 83.45%\n",
      "/home/vzhao/Documents/Projects/MDPD/python/MDPD/utils.py:238: RuntimeWarning: divide by zero encountered in log\n",
      "  log_second_scaled = np.log(second_masked)\n",
      "2018-05-17 11:40:35,681 : INFO : The mutual information residue (include all features) is 0.021431297836945196\n",
      "2018-05-17 11:40:35,684 : INFO : The mutual information residue (within selected features) is 0.0892383546103692\n"
     ]
    },
    {
     "name": "stdout",
     "output_type": "stream",
     "text": [
      "CPU times: user 35.4 s, sys: 3.46 s, total: 38.9 s\n",
      "Wall time: 19 s\n"
     ]
    }
   ],
   "source": [
    "%%time\n",
    "# Feature Selection + EM\n",
    "model = MDPD.MDPD_standard()\n",
    "model.fit(train, EFF_NVOCAB, features=features[:Ntop], init='spectral', verbose=False, epoch=50, lock=lock)\n",
    "model.accuracy(train, label)\n",
    "model.MI_residue(train)"
   ]
  },
  {
   "cell_type": "code",
   "execution_count": null,
   "metadata": {},
   "outputs": [],
   "source": [
    "# optional\n",
    "model.change_features(train, features=range(model.dim))\n",
    "model.accuracy(train, label)"
   ]
  },
  {
   "cell_type": "markdown",
   "metadata": {},
   "source": [
    "#### [Plot] Mutual Information Residue vs the Residue of the Raw Data"
   ]
  },
  {
   "cell_type": "code",
   "execution_count": null,
   "metadata": {},
   "outputs": [],
   "source": [
    "log_post = model.log_posterior(train)\n",
    "score, weights = utils.Feature_Selection.MI_score_conditional(train, log_post, rm_diag=True, lock=lock)\n",
    "sigma_condition = score.sum(axis=1)\n",
    "print 'Mutual Information Residue of the model with feature selection'\n",
    "print np.sum(sigma_condition * weights[np.newaxis, :]) / (DIM * (DIM - 1))"
   ]
  },
  {
   "cell_type": "code",
   "execution_count": null,
   "metadata": {},
   "outputs": [],
   "source": [
    "plt.figure()\n",
    "idx = np.argsort(sigma_origin)[::-1]\n",
    "for k in xrange(train.shape[2]-1 if np.any(lock) else train.shape[2]):\n",
    "    plt.plot(score_condition[idx,k]/(DIM-1))\n",
    "plt.plot(sigma_origin[idx] / (DIM-1), '--')\n",
    "# plot reference G statistics\n",
    "for foo in percentiles[:3]:\n",
    "    plt.plot([0, len(score)], [foo, foo], 'c--')\n",
    "plt.show()"
   ]
  },
  {
   "cell_type": "code",
   "execution_count": null,
   "metadata": {},
   "outputs": [],
   "source": [
    "plt.figure()\n",
    "plt.plot(sigma_origin[idx] / (DIM-1), '--')\n",
    "plt.plot(np.sum(score_condition[idx, :] * weights[np.newaxis, :], axis=1) / (DIM-1))\n",
    "# plot reference G statistics\n",
    "for foo in percentiles[:3]:\n",
    "    plt.plot([0, len(score)], [foo, foo], 'c--')\n",
    "plt.show()"
   ]
  },
  {
   "cell_type": "markdown",
   "metadata": {},
   "source": [
    "## Vanilla Model Performance\n",
    "#### Accuracy and Mutual Information Residue"
   ]
  },
  {
   "cell_type": "code",
   "execution_count": null,
   "metadata": {},
   "outputs": [],
   "source": [
    "# basic model with majority vote initialization\n",
    "model_basic = MDPD.MDPD_standard()\n",
    "model_basic.fit(train, ncomp=EFF_NVOCAB, init='majority', verbose=False, epoch=50, lock=lock)\n",
    "model_basic.accuracy(train, label)\n",
    "model_basic.MI_residue(train)"
   ]
  },
  {
   "cell_type": "code",
   "execution_count": null,
   "metadata": {},
   "outputs": [],
   "source": [
    "log_post = model_basic.log_posterior(train)\n",
    "score, weights = MDPD.utils.Feature_Selection.MI_score_conditional(train, log_post, rm_diag=True, lock=lock)\n",
    "score_condition = score.sum(axis=1)\n",
    "print 'Mutual Information Residue if use the true label as the posterior distribution'\n",
    "print np.sum(score_condition * weights[np.newaxis, :]) / (DIM * (DIM - 1))\n",
    "\n",
    "print 'Mutual Information Residue (within the selected features)'\n",
    "score_select = score[features[:Ntop, np.newaxis], features[:Ntop], :]\n",
    "res_select = np.sum(score_select.sum(axis=1) * weights[np.newaxis, :]) / (Ntop * (Ntop - 1))\n",
    "print res_select"
   ]
  },
  {
   "cell_type": "markdown",
   "metadata": {},
   "source": [
    "#### [Plot] Mutual Information Residue vs the Residue of the Raw Data"
   ]
  },
  {
   "cell_type": "code",
   "execution_count": null,
   "metadata": {},
   "outputs": [],
   "source": [
    "plt.figure()\n",
    "idx = np.argsort(sigma_origin)[::-1]\n",
    "for k in xrange(train.shape[2]-1 if np.any(lock) else train.shape[2]):\n",
    "    plt.plot(score_condition[idx,k]/(DIM - 1))\n",
    "plt.plot(sigma_origin[idx] / (DIM - 1), '--')\n",
    "# plot reference G statistics\n",
    "for foo in percentiles[:3]:\n",
    "    plt.plot([0, len(score)], [foo, foo], 'c--')\n",
    "plt.show()"
   ]
  },
  {
   "cell_type": "code",
   "execution_count": null,
   "metadata": {},
   "outputs": [],
   "source": [
    "plt.figure()\n",
    "plt.plot(sigma_origin[idx] / (DIM - 1), '--')\n",
    "plt.plot(np.sum(score_condition[idx,:] * weights[np.newaxis, :], axis=1) / (DIM - 1))\n",
    "# plot reference G statistics\n",
    "for foo in percentiles[:3]:\n",
    "    plt.plot([0, len(score)], [foo, foo], 'c--')\n",
    "plt.show()"
   ]
  },
  {
   "cell_type": "markdown",
   "metadata": {},
   "source": [
    "---\n",
    "## Generate Image"
   ]
  },
  {
   "cell_type": "markdown",
   "metadata": {},
   "source": [
    "#### NIPS 2018"
   ]
  },
  {
   "cell_type": "markdown",
   "metadata": {},
   "source": [
    "Missing Values"
   ]
  },
  {
   "cell_type": "code",
   "execution_count": null,
   "metadata": {},
   "outputs": [],
   "source": [
    "plt.imshow(1-train[..., -1], origin='lower', cmap='PuBu')\n",
    "plt.axis('normal')\n",
    "plt.xlabel('Worker Index', fontsize=15)\n",
    "plt.ylabel('Item Index', fontsize=15)"
   ]
  },
  {
   "cell_type": "markdown",
   "metadata": {},
   "source": [
    "Error Rate vs. number of features"
   ]
  },
  {
   "cell_type": "code",
   "execution_count": 31,
   "metadata": {},
   "outputs": [
    {
     "name": "stderr",
     "output_type": "stream",
     "text": [
      "/home/vzhao/Documents/Projects/MDPD/python/MDPD/utils.py:238: RuntimeWarning: divide by zero encountered in log\n",
      "  log_second_scaled = np.log(second_masked)\n"
     ]
    },
    {
     "name": "stdout",
     "output_type": "stream",
     "text": [
      "[  2   7   0  11  12   6   1  15  25  13  10   3  44  32 102   5  69  38\n",
      "  29  36   8  62 106  58 103  56  46  27  24  23  52  51  28  41  21  31\n",
      "  74  68  33  35  77  99  75  64 114  50  82  17 142 109 117  65 107 100\n",
      "  30 129  93  19  26 105  40  86  98  90  59  37  91 112  78  34  81  67\n",
      " 120 126   4  70 134  61   9  83  47  18 130  71  49 135 124  96 127  92\n",
      " 119  72  88 104  48 108  55  85 144  14 118  16  39  87 101  60 139  89\n",
      "  54 155 140 132  63  84  94 113 138 145  95 158  22  42 116 165  80  57\n",
      "  45  66 164 143  53 147  76 125 161 123 128 153 141 121  79  20  97 131\n",
      " 111 160 122  43 157  73 115 133 110 156 148 150 173 137 146 162 168 159\n",
      " 175 169 167 176 163 171 136 172 166 151 154 170 149 174 152]\n",
      "CPU times: user 403 ms, sys: 45.3 ms, total: 449 ms\n",
      "Wall time: 365 ms\n"
     ]
    },
    {
     "data": {
      "image/png": "[encoded data removed]",
      "text/plain": [
       "<Figure size 460.8x172.8 with 1 Axes>"
      ]
     },
     "metadata": {},
     "output_type": "display_data"
    }
   ],
   "source": [
    "%%time\n",
    "score = utils.Feature_Selection.MI_score(train, lock=lock)\n",
    "sigma = score.sum(axis=1)\n",
    "features = np.argsort(sigma)[::-1]\n",
    "sigma = sigma[features]\n",
    "# features, sigma = utils.Feature_Selection.MI_feature_ranking(train, lock=lock)\n",
    "plt.figure(figsize=(6.4,2.4))\n",
    "plt.plot(sigma)\n",
    "plt.xlabel('# of features(workers)', fontsize=15)\n",
    "plt.ylabel(r'$\\sigma$ score', fontsize=15)\n",
    "print(features)"
   ]
  },
  {
   "cell_type": "code",
   "execution_count": null,
   "metadata": {},
   "outputs": [],
   "source": []
  },
  {
   "cell_type": "code",
   "execution_count": null,
   "metadata": {
    "scrolled": true
   },
   "outputs": [],
   "source": [
    "x_range = range(6, 178)\n",
    "mvem_err = []\n",
    "spec_err = []\n",
    "for Ntop in x_range:\n",
    "#     print(Ntop)\n",
    "    # solve if no training data on one item\n",
    "    mask = train[:, features[:Ntop], -1].sum(axis=1) != Ntop\n",
    "    train_valid, label_valid = train[mask, :, :], label[mask]\n",
    "    item_to_guess = len(label) - mask.sum()\n",
    "    # mvem\n",
    "    model = MDPD.MDPD_standard()\n",
    "    model.fit(train_valid, EFF_NVOCAB, features=features[:Ntop], init='majority', verbose=False, epoch=100, lock=lock)\n",
    "    total_right = model.accuracy(train_valid, label_valid) * len(label_valid) + item_to_guess / EFF_NVOCAB\n",
    "    mvem_err.append(1 - total_right / len(label))\n",
    "    # spec\n",
    "    cache = []\n",
    "    for _ in range(20):\n",
    "        try:\n",
    "            model = MDPD.MDPD_standard()\n",
    "            model.fit(train, 5, features=features[:Ntop], init='spectral', verbose=False, epoch=100, lock=lock)\n",
    "            cache.append(model.accuracy(train, label))\n",
    "        except:\n",
    "            pass\n",
    "    spec_err.append(cache)"
   ]
  },
  {
   "cell_type": "code",
   "execution_count": null,
   "metadata": {},
   "outputs": [],
   "source": [
    "mvem_err"
   ]
  },
  {
   "cell_type": "code",
   "execution_count": null,
   "metadata": {},
   "outputs": [],
   "source": [
    "train.shape"
   ]
  },
  {
   "cell_type": "code",
   "execution_count": null,
   "metadata": {},
   "outputs": [],
   "source": [
    "mask = train[:, features[:5], -1].sum(axis=1) != 5"
   ]
  },
  {
   "cell_type": "code",
   "execution_count": null,
   "metadata": {},
   "outputs": [],
   "source": [
    "lock.shape"
   ]
  },
  {
   "cell_type": "code",
   "execution_count": null,
   "metadata": {},
   "outputs": [],
   "source": [
    "mask.sum()"
   ]
  },
  {
   "cell_type": "code",
   "execution_count": null,
   "metadata": {},
   "outputs": [],
   "source": [
    "label.shape"
   ]
  },
  {
   "cell_type": "markdown",
   "metadata": {},
   "source": [
    "Read .p files"
   ]
  },
  {
   "cell_type": "code",
   "execution_count": 15,
   "metadata": {},
   "outputs": [],
   "source": [
    "x_range = range(6, 178)\n",
    "mv_err = pickle.load(open('NIPS_2018_WEB_MV.p','rb'))\n",
    "mvem_err = pickle.load(open('NIPS_2018_WEB_MVEM.p','rb'))"
   ]
  },
  {
   "cell_type": "code",
   "execution_count": 39,
   "metadata": {},
   "outputs": [
    {
     "data": {
      "text/plain": [
       "<matplotlib.legend.Legend at 0x7fc3f30f2ba8>"
      ]
     },
     "execution_count": 39,
     "metadata": {},
     "output_type": "execute_result"
    },
    {
     "data": {
      "image/png": "[encoded data removed]",
      "text/plain": [
       "<Figure size 460.8x345.6 with 1 Axes>"
      ]
     },
     "metadata": {},
     "output_type": "display_data"
    }
   ],
   "source": [
    "plt.figure(figsize=(6.4,4.8))\n",
    "plt.plot(x_range, mv_err)\n",
    "plt.plot(x_range, mvem_err)\n",
    "plt.xlabel('# of features(workers)', fontsize=15)\n",
    "plt.ylabel('Mis-clustering Rate (%)', fontsize=15)\n",
    "plt.ylim([0.075,0.25])\n",
    "plt.legend(['MV', 'MV-EM', 'Spec-EM'],loc=2)"
   ]
  },
  {
   "cell_type": "code",
   "execution_count": 78,
   "metadata": {},
   "outputs": [
    {
     "data": {
      "text/plain": [
       "4"
      ]
     },
     "execution_count": 78,
     "metadata": {},
     "output_type": "execute_result"
    }
   ],
   "source": [
    "np.argmin(mvem_err)"
   ]
  },
  {
   "cell_type": "code",
   "execution_count": 121,
   "metadata": {},
   "outputs": [
    {
     "data": {
      "image/png": "[encoded data removed]",
      "text/plain": [
       "<Figure size 921.6x345.6 with 3 Axes>"
      ]
     },
     "metadata": {},
     "output_type": "display_data"
    }
   ],
   "source": [
    "plt.figure(figsize=(12.8,4.8))\n",
    "\n",
    "plt.subplot2grid((3, 2), (0, 0), rowspan=3)\n",
    "plt.plot(x_range, mv_err)\n",
    "plt.plot(x_range, mvem_err)\n",
    "plt.xlabel('# of features(workers)', fontsize=15)\n",
    "plt.ylabel('Mis-clustering Rate (%)', fontsize=15)\n",
    "plt.ylim([0.075,0.25])\n",
    "plt.legend(['MV', 'MV-EM', 'Spec-EM'],loc=2,fancybox=True, framealpha=0.5)\n",
    "\n",
    "ax = plt.subplot2grid((3, 2), (0, 1), rowspan=2)\n",
    "newx = np.array(x_range)[4:]\n",
    "y1 = mvem_err[4:]\n",
    "y2 = np.ones(newx.shape) * np.min(mvem_err)\n",
    "\n",
    "plt.plot(x_range, mvem_err,color='C1')\n",
    "plt.plot(newx, y2, '--')\n",
    "ax.fill_between(newx, y1, y2, alpha=0.5)\n",
    "\n",
    "plt.plot(x_range[4], mvem_err[4], 'r.')\n",
    "\n",
    "# plt.xlabel('# of features(workers)', fontsize=15)\n",
    "plt.ylabel('Mis-clustering Rate (%)', fontsize=15)\n",
    "plt.ylim([0.075,0.25])\n",
    "plt.xlim([0, 180])\n",
    "ax.get_xaxis().set_visible(False)\n",
    "ax.yaxis.set_ticks_position('right')\n",
    "ax.yaxis.set_label_position(\"right\")\n",
    "# ax.set_xticklabels([])\n",
    "plt.legend(['MV-EM'],fancybox=True, framealpha=0.5)\n",
    "\n",
    "ax = plt.subplot2grid((3, 2), (2, 1))\n",
    "\n",
    "x = np.arange(len(sigma)) + 1\n",
    "plt.plot(x, sigma,color='C2')\n",
    "\n",
    "ax.axvline(x[9], 0, 3.4, clip_on=False, linestyle='--')\n",
    "plt.plot(x[9], sigma[9], 'r.')\n",
    "\n",
    "plt.xlim([0, 180])\n",
    "plt.xlabel('# of features(workers)', fontsize=15)\n",
    "plt.ylabel(r'$\\sigma$ score', fontsize=15)\n",
    "ax.yaxis.set_ticks_position('right')\n",
    "ax.yaxis.set_label_position(\"right\")"
   ]
  },
  {
   "cell_type": "code",
   "execution_count": null,
   "metadata": {},
   "outputs": [],
   "source": []
  }
 ],
 "metadata": {
  "kernelspec": {
   "display_name": "Python 3",
   "language": "python",
   "name": "python3"
  },
  "language_info": {
   "codemirror_mode": {
    "name": "ipython",
    "version": 3
   },
   "file_extension": ".py",
   "mimetype": "text/x-python",
   "name": "python",
   "nbconvert_exporter": "python",
   "pygments_lexer": "ipython3",
   "version": "3.6.5"
  }
 },
 "nbformat": 4,
 "nbformat_minor": 2
}
