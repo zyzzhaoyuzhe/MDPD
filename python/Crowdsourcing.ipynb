{
 "cells": [
  {
   "cell_type": "code",
   "execution_count": 1,
   "metadata": {},
   "outputs": [],
   "source": [
    "from __future__ import division\n",
    "\n",
    "import os\n",
    "import numpy as np\n",
    "import time, timeit\n",
    "import signal\n",
    "import scipy.io as scio\n",
    "from scipy import stats\n",
    "from scipy.sparse import coo_matrix\n",
    "from MDPD import *\n",
    "from MDPD.readers import *\n",
    "from MDPD import utils\n",
    "import matplotlib.pyplot as plt\n",
    "import matplotlib"
   ]
  },
  {
   "cell_type": "markdown",
   "metadata": {},
   "source": [
    "----\n",
    "## Read Data"
   ]
  },
  {
   "cell_type": "code",
   "execution_count": 2,
   "metadata": {},
   "outputs": [
    {
     "name": "stderr",
     "output_type": "stream",
     "text": [
      "2018-04-01 13:41:52,162 : INFO : The Data has 39 dimensions, 108 samples, and 2 volcabulary size.\n"
     ]
    }
   ],
   "source": [
    "folder = '/media/vzhao/Data/crowdsourcing_datasets/bird'\n",
    "train = Crowd_Sourcing_Readers.read_data(os.path.join(folder, 'bluebird_crowd.txt'))\n",
    "label = Crowd_Sourcing_Readers.read_label(os.path.join(folder, 'bluebird_truth.txt'))\n",
    "lock = np.zeros(train.shape[1:])"
   ]
  },
  {
   "cell_type": "code",
   "execution_count": null,
   "metadata": {},
   "outputs": [],
   "source": [
    "folder = '/media/vzhao/Data/crowdsourcing_datasets/dog'\n",
    "train = Crowd_Sourcing_Readers.read_data(os.path.join(folder, 'dog_crowd.txt'))\n",
    "label = Crowd_Sourcing_Readers.read_label(os.path.join(folder, 'dog_truth.txt'))\n"
   ]
  },
  {
   "cell_type": "code",
   "execution_count": null,
   "metadata": {},
   "outputs": [],
   "source": [
    "folder = '/media/vzhao/Data/crowdsourcing_datasets/rte'\n",
    "train = Crowd_Sourcing_Readers.read_data(os.path.join(folder, 'rte_crowd.txt'))\n",
    "label = Crowd_Sourcing_Readers.read_label(os.path.join(folder, 'rte_truth.txt'))\n",
    "lock = np.zeros(train.shape[1:])\n",
    "lock[:, -1] = 1"
   ]
  },
  {
   "cell_type": "code",
   "execution_count": null,
   "metadata": {},
   "outputs": [],
   "source": [
    "folder = '/media/vzhao/Data/crowdsourcing_datasets/trec'\n",
    "train = Crowd_Sourcing_Readers.read_data(os.path.join(folder, 'trec_crowd.txt'))\n",
    "label = Crowd_Sourcing_Readers.read_label(os.path.join(folder, 'trec_truth.txt'))"
   ]
  },
  {
   "cell_type": "code",
   "execution_count": 2,
   "metadata": {},
   "outputs": [
    {
     "name": "stderr",
     "output_type": "stream",
     "text": [
      "2018-03-30 14:24:51,500 : INFO : Data has missing values. A new label is created to represent the missing values.\n",
      "2018-03-30 14:24:51,521 : INFO : The Data has 177 dimensions, 2665 samples, and 6 volcabulary size.\n"
     ]
    }
   ],
   "source": [
    "folder = '/media/vzhao/Data/crowdsourcing_datasets/web'\n",
    "train = Crowd_Sourcing_Readers.read_data(os.path.join(folder, 'web_crowd.txt'))\n",
    "label = Crowd_Sourcing_Readers.read_label(os.path.join(folder, 'web_truth.txt'))\n",
    "lock = np.zeros(train.shape[1:])\n",
    "lock[:, -1] = 1"
   ]
  },
  {
   "cell_type": "markdown",
   "metadata": {},
   "source": [
    "---\n",
    "## Analysis"
   ]
  },
  {
   "cell_type": "markdown",
   "metadata": {},
   "source": [
    "### Original Mutual Information Residue"
   ]
  },
  {
   "cell_type": "code",
   "execution_count": 3,
   "metadata": {},
   "outputs": [
    {
     "name": "stdout",
     "output_type": "stream",
     "text": [
      "0.03756253829869128\n"
     ]
    },
    {
     "name": "stderr",
     "output_type": "stream",
     "text": [
      "MDPD/utils.py:158: RuntimeWarning: divide by zero encountered in log\n",
      "  pmi = second * (np.log(second) - logfirst)\n",
      "MDPD/utils.py:158: RuntimeWarning: invalid value encountered in multiply\n",
      "  pmi = second * (np.log(second) - logfirst)\n"
     ]
    }
   ],
   "source": [
    "# Original mutual information residue (G score)\n",
    "score = MDPD.utils.Feature_Selection.MI_score(train, rm_diag=True, lock=lock)\n",
    "dim = train.shape[1]\n",
    "print np.sum(score) / (dim * (dim-1))"
   ]
  },
  {
   "cell_type": "code",
   "execution_count": null,
   "metadata": {},
   "outputs": [],
   "source": [
    "score, weights = MDPD.utils.Feature_Selection.MI_score_conditional(train, )"
   ]
  },
  {
   "cell_type": "code",
   "execution_count": 44,
   "metadata": {},
   "outputs": [
    {
     "name": "stderr",
     "output_type": "stream",
     "text": [
      "/home/vzhao/.virtualenvs/tf/lib/python2.7/site-packages/ipykernel_launcher.py:7: RuntimeWarning: divide by zero encountered in log\n",
      "  import sys\n"
     ]
    }
   ],
   "source": [
    "# label to log_post\n",
    "def label2logpost(label, ncomp):\n",
    "    nsample = label.shape[0]\n",
    "    post = np.zeros((nsample, ncomp))\n",
    "    for i in xrange(nsample):\n",
    "        post[i, label[i]] = 1\n",
    "    return np.log(post)\n",
    "log_post = label2logpost(label,2)"
   ]
  },
  {
   "cell_type": "code",
   "execution_count": 48,
   "metadata": {},
   "outputs": [],
   "source": [
    "score, weighted = MDPD.utils.Feature_Selection.MI_score_conditional(train, log_post, rm_diag=True)"
   ]
  },
  {
   "cell_type": "code",
   "execution_count": 49,
   "metadata": {},
   "outputs": [],
   "source": [
    "ss = score.sum(axis=1) * weighted[np.newaxis, :]"
   ]
  },
  {
   "cell_type": "code",
   "execution_count": 50,
   "metadata": {},
   "outputs": [
    {
     "data": {
      "text/plain": [
       "(39, 2)"
      ]
     },
     "execution_count": 50,
     "metadata": {},
     "output_type": "execute_result"
    }
   ],
   "source": [
    "ss.shape"
   ]
  },
  {
   "cell_type": "code",
   "execution_count": 56,
   "metadata": {
    "scrolled": true
   },
   "outputs": [
    {
     "data": {
      "text/plain": [
       "array([16,  7, 29, 34, 26, 24,  0, 31, 11,  8, 36, 37, 15, 19, 28, 21, 18,\n",
       "       38,  4, 14, 20,  2, 23, 35,  1, 30, 13, 32, 27, 22, 12,  9, 25, 33,\n",
       "        6, 17,  3, 10,  5])"
      ]
     },
     "execution_count": 56,
     "metadata": {},
     "output_type": "execute_result"
    },
    {
     "data": {
      "image/png": "[encoded data removed]",
      "text/plain": [
       "<matplotlib.figure.Figure at 0x7fe5d22f4850>"
      ]
     },
     "metadata": {},
     "output_type": "display_data"
    }
   ],
   "source": [
    "plt.plot(ss[features,0]/38)\n",
    "plt.plot(ss[features,1]/38)\n",
    "plt.plot(score/38, '--')\n",
    "features"
   ]
  },
  {
   "cell_type": "markdown",
   "metadata": {},
   "source": [
    "### Reference G Statistics"
   ]
  },
  {
   "cell_type": "code",
   "execution_count": 4,
   "metadata": {},
   "outputs": [
    {
     "name": "stdout",
     "output_type": "stream",
     "text": [
      "Reference G statistis at [99, 95, 90, 75, 50] percentile\n",
      "[0.05252253115807579, 0.03617929584838508, 0.028941614033195937, 0.019020115442742205, 0.01095358279803397]\n"
     ]
    }
   ],
   "source": [
    "percentages = [99,95,90,75,50]\n",
    "percentiles = [stats.chi2.ppf(x/100.,3) / (2 * train.shape[0]) for x in percentages]\n",
    "\n",
    "print 'Reference G statistis at {} percentile'.format(percentages)\n",
    "print percentiles"
   ]
  },
  {
   "cell_type": "markdown",
   "metadata": {},
   "source": [
    "### Mixture Model with Feature Selection Performance"
   ]
  },
  {
   "cell_type": "markdown",
   "metadata": {},
   "source": [
    "#### Feature Ranking"
   ]
  },
  {
   "cell_type": "code",
   "execution_count": 51,
   "metadata": {},
   "outputs": [
    {
     "data": {
      "text/plain": [
       "array([16,  7, 29, 34, 26, 24,  0, 31, 11,  8, 36, 37, 15, 19, 28, 21, 18,\n",
       "       38,  4, 14, 20,  2, 23, 35,  1, 30, 13, 32, 27, 22, 12,  9, 25, 33,\n",
       "        6, 17,  3, 10,  5])"
      ]
     },
     "execution_count": 51,
     "metadata": {},
     "output_type": "execute_result"
    },
    {
     "data": {
      "image/png": "[encoded data removed]",
      "text/plain": [
       "<matplotlib.figure.Figure at 0x7fe5d21e8810>"
      ]
     },
     "metadata": {},
     "output_type": "display_data"
    }
   ],
   "source": [
    "features, score = utils.Feature_Selection.MI_feature_ranking(train)\n",
    "plt.plot(score/(train.shape[1]-1))\n",
    "# plot reference G statistics\n",
    "for foo in percentiles:\n",
    "    plt.plot([0, len(score)], [foo, foo], 'c--')\n",
    "features"
   ]
  },
  {
   "cell_type": "markdown",
   "metadata": {},
   "source": [
    "#### Accuracy and Mutual Information Residue"
   ]
  },
  {
   "cell_type": "code",
   "execution_count": null,
   "metadata": {},
   "outputs": [],
   "source": [
    "Ntop = 9"
   ]
  },
  {
   "cell_type": "code",
   "execution_count": 6,
   "metadata": {},
   "outputs": [
    {
     "name": "stderr",
     "output_type": "stream",
     "text": [
      "2018-04-01 13:42:28,988 : INFO : Training an MDPD with dimension 9, sample size 108, vocab size 2 and the target number of components 5\n",
      "MDPD/utils.py:75: RuntimeWarning: divide by zero encountered in log\n",
      "  log_votes = np.log(votes)\n",
      "2018-04-01 13:42:29,023 : INFO : ACCURACY: 89.81%\n",
      "MDPD/utils.py:228: RuntimeWarning: divide by zero encountered in log\n",
      "  pmi = second * (np.log(second) - log_first)\n",
      "MDPD/utils.py:228: RuntimeWarning: invalid value encountered in multiply\n",
      "  pmi = second * (np.log(second) - log_first)\n",
      "2018-04-01 13:42:29,041 : INFO : The mutual information residue is 0.0149997481751\n",
      "2018-04-01 13:42:29,043 : INFO : The mutual information residue of the feature set is 0.012632982449\n"
     ]
    }
   ],
   "source": [
    "# Feature Selection\n",
    "model = MDPD.MDPD()\n",
    "model.fit(train, ncomp=5, init='majority', verbose=False, features=features[:Ntop], niter=50, lock=lock)\n",
    "model.accuracy(train, label)\n",
    "model.MI_residue(train, lock)"
   ]
  },
  {
   "cell_type": "code",
   "execution_count": null,
   "metadata": {},
   "outputs": [],
   "source": [
    "# optional\n",
    "model.change_features(train, features=range(model.dim))\n",
    "model.accuracy(train, label)"
   ]
  },
  {
   "cell_type": "markdown",
   "metadata": {},
   "source": [
    "### Vanilla Model Performance\n",
    "#### Accuracy"
   ]
  },
  {
   "cell_type": "code",
   "execution_count": 7,
   "metadata": {},
   "outputs": [
    {
     "name": "stderr",
     "output_type": "stream",
     "text": [
      "2018-03-30 14:29:52,170 : INFO : Training an MDPD with dimension 177, sample size 2665, vocab size 6 and the target number of components 4\n",
      "MDPD/MDPD.py:234: RuntimeWarning: divide by zero encountered in log\n",
      "  log_margin_prob = np.log(data_selected.sum(axis=0) / data_selected.shape[0])\n",
      "2018-03-30 14:30:21,893 : INFO : ACCURACY: 82.66%\n"
     ]
    },
    {
     "data": {
      "text/plain": [
       "0.8266416510318949"
      ]
     },
     "execution_count": 7,
     "metadata": {},
     "output_type": "execute_result"
    }
   ],
   "source": [
    "# basic model with majority vote initialization\n",
    "model_basic = MDPD.MDPD()\n",
    "model_basic.fit(train, ncomp=4, init='majority', verbose=False, niter=50, lock=lock)\n",
    "model_basic.accuracy(train, label)"
   ]
  },
  {
   "cell_type": "markdown",
   "metadata": {},
   "source": [
    "#### Mutual Information Residue"
   ]
  },
  {
   "cell_type": "code",
   "execution_count": 8,
   "metadata": {},
   "outputs": [
    {
     "name": "stderr",
     "output_type": "stream",
     "text": [
      "2018-03-30 16:14:55,787 : INFO : The mutual information residue is 0.00073482327462\n",
      "2018-03-30 16:14:55,789 : INFO : The mutual information residue of the feature set is 0.00073482327462\n"
     ]
    },
    {
     "name": "stdout",
     "output_type": "stream",
     "text": [
      "MI residue conditional on the features (although basic model is using all features to learn the model)\n",
      "-0.006733611156566834\n"
     ]
    }
   ],
   "source": [
    "model_basic.MI_residue(train, lock)\n",
    "# MI residue conditional on the features (although basic model is using all features to learn the model)\n",
    "features, score = utils.Feature_Selection.MI_feature_ranking(train)\n",
    "features = np.array(features)\n",
    "log_post = model_basic.log_posterior(train)\n",
    "score, weights = utils.Feature_Selection.MI_score_conditional(train,log_post,rm_diag=True, lock=lock)\n",
    "score_selected = score[features[:Ntop, np.newaxis], features[:Ntop]]\n",
    "print 'MI residue conditional on the features (although basic model is using all features to learn the model)'\n",
    "print np.sum(score_selected.sum(axis=(0,1)) * weights) / (Ntop * (Ntop - 1))"
   ]
  },
  {
   "cell_type": "markdown",
   "metadata": {},
   "source": [
    "### "
   ]
  },
  {
   "cell_type": "code",
   "execution_count": 57,
   "metadata": {},
   "outputs": [],
   "source": [
    "from tensorflow.examples.tutorials.mnist import input_data"
   ]
  },
  {
   "cell_type": "code",
   "execution_count": 58,
   "metadata": {},
   "outputs": [
    {
     "name": "stdout",
     "output_type": "stream",
     "text": [
      "Extracting /media/vzhao/Data/MNIST/train-images-idx3-ubyte.gz\n",
      "Extracting /media/vzhao/Data/MNIST/train-labels-idx1-ubyte.gz\n",
      "Extracting /media/vzhao/Data/MNIST/t10k-images-idx3-ubyte.gz\n",
      "Extracting /media/vzhao/Data/MNIST/t10k-labels-idx1-ubyte.gz\n"
     ]
    }
   ],
   "source": [
    "mnist = input_data.read_data_sets(\"/media/vzhao/Data/MNIST/\", one_hot=True)"
   ]
  },
  {
   "cell_type": "code",
   "execution_count": 59,
   "metadata": {},
   "outputs": [
    {
     "data": {
      "text/plain": [
       "Datasets(train=<tensorflow.contrib.learn.python.learn.datasets.mnist.DataSet object at 0x7fe5d2067e90>, validation=<tensorflow.contrib.learn.python.learn.datasets.mnist.DataSet object at 0x7fe57625bdd0>, test=<tensorflow.contrib.learn.python.learn.datasets.mnist.DataSet object at 0x7fe57625bd90>)"
      ]
     },
     "execution_count": 59,
     "metadata": {},
     "output_type": "execute_result"
    }
   ],
   "source": [
    "mnist.train."
   ]
  },
  {
   "cell_type": "code",
   "execution_count": null,
   "metadata": {},
   "outputs": [],
   "source": []
  }
 ],
 "metadata": {
  "kernelspec": {
   "display_name": "Python 2",
   "language": "python",
   "name": "python2"
  },
  "language_info": {
   "codemirror_mode": {
    "name": "ipython",
    "version": 2
   },
   "file_extension": ".py",
   "mimetype": "text/x-python",
   "name": "python",
   "nbconvert_exporter": "python",
   "pygments_lexer": "ipython2",
   "version": "2.7.14"
  }
 },
 "nbformat": 4,
 "nbformat_minor": 2
}
