{
 "cells": [
  {
   "cell_type": "code",
   "execution_count": 1,
   "metadata": {},
   "outputs": [],
   "source": [
    "from __future__ import division\n",
    "\n",
    "import os\n",
    "import numpy as np\n",
    "import time, timeit\n",
    "import signal\n",
    "import scipy.io as scio\n",
    "from scipy import stats\n",
    "from scipy.sparse import coo_matrix\n",
    "from MDPD.readers import *\n",
    "from MDPD import utils, MDPD\n",
    "import matplotlib.pyplot as plt\n",
    "import matplotlib"
   ]
  },
  {
   "cell_type": "markdown",
   "metadata": {},
   "source": [
    "----\n",
    "## Read Data"
   ]
  },
  {
   "cell_type": "code",
   "execution_count": 2,
   "metadata": {},
   "outputs": [],
   "source": [
    "folder = '/media/vzhao/Data/crowdsourcing_datasets/'\n",
    "# folder = '/Users/vincent/Documents/Research/MDPD/crowdsourcing_datasets'"
   ]
  },
  {
   "cell_type": "code",
   "execution_count": null,
   "metadata": {},
   "outputs": [],
   "source": [
    "reader = Crowd_Sourcing_Readers(os.path.join(folder, 'bird', 'bluebird_crowd.txt'), os.path.join(folder, 'bird', 'bluebird_truth.txt'))\n",
    "train, label = reader.data, reader.labels\n",
    "lock = np.zeros(train.shape[1:], dtype=np.bool)\n",
    "print train.shape"
   ]
  },
  {
   "cell_type": "code",
   "execution_count": 3,
   "metadata": {},
   "outputs": [
    {
     "name": "stderr",
     "output_type": "stream",
     "text": [
      "2018-04-09 12:43:12,809 : INFO : Data has missing values. A new label is created to represent the missing values.\n"
     ]
    },
    {
     "name": "stdout",
     "output_type": "stream",
     "text": [
      "(807, 109, 5)\n"
     ]
    }
   ],
   "source": [
    "reader = Crowd_Sourcing_Readers(os.path.join(folder, 'dog', 'dog_crowd.txt'), os.path.join(folder, 'dog', 'dog_truth.txt'))\n",
    "train, label = reader.data, reader.labels\n",
    "lock = np.zeros(train.shape[1:],dtype=np.bool)\n",
    "lock[:, -1] = 1\n",
    "print train.shape"
   ]
  },
  {
   "cell_type": "code",
   "execution_count": null,
   "metadata": {},
   "outputs": [],
   "source": [
    "reader = Crowd_Sourcing_Readers(os.path.join(folder, 'rte', 'rte_crowd.txt'), os.path.join(folder, 'rte', 'rte_truth.txt'))\n",
    "train, label = reader.data, reader.labels\n",
    "lock = np.zeros(train.shape[1:],dtype=np.bool)\n",
    "lock[:, -1] = 1\n",
    "print train.shape"
   ]
  },
  {
   "cell_type": "code",
   "execution_count": null,
   "metadata": {},
   "outputs": [],
   "source": [
    "reader = Crowd_Sourcing_Readers(os.path.join(folder, 'trec', 'trec_crowd.txt'), os.path.join(folder, 'trec', 'trec_truth.txt'))\n",
    "train, label = reader.data, reader.labels\n",
    "lock = np.zeros(train.shape[1:],dtype=np.bool)\n",
    "lock[:, -1] = 1\n",
    "print train.shape"
   ]
  },
  {
   "cell_type": "code",
   "execution_count": null,
   "metadata": {},
   "outputs": [],
   "source": [
    "reader = Crowd_Sourcing_Readers(os.path.join(folder, 'web', 'web_crowd.txt'), os.path.join(folder, 'web', 'web_truth.txt'))\n",
    "train, label = reader.data, reader.labels\n",
    "lock = np.zeros(train.shape[1:],dtype=np.bool)\n",
    "lock[:, -1] = 1\n",
    "print train.shape"
   ]
  },
  {
   "cell_type": "markdown",
   "metadata": {},
   "source": [
    "#### Update global variables"
   ]
  },
  {
   "cell_type": "code",
   "execution_count": 4,
   "metadata": {},
   "outputs": [],
   "source": [
    "NSAMPLE, DIM, NVOCAB = train.shape\n",
    "EFF_NVOCAB = NVOCAB-1 if reader.is_missing_value else NVOCAB"
   ]
  },
  {
   "cell_type": "markdown",
   "metadata": {},
   "source": [
    "---\n",
    "## Analysis"
   ]
  },
  {
   "cell_type": "markdown",
   "metadata": {},
   "source": [
    "## Original Mutual Information Residue"
   ]
  },
  {
   "cell_type": "code",
   "execution_count": 5,
   "metadata": {},
   "outputs": [
    {
     "name": "stdout",
     "output_type": "stream",
     "text": [
      "0.2921120360257613\n",
      "CPU times: user 50 ms, sys: 43.8 ms, total: 93.9 ms\n",
      "Wall time: 35.6 ms\n"
     ]
    },
    {
     "name": "stderr",
     "output_type": "stream",
     "text": [
      "MDPD/utils.py:213: RuntimeWarning: divide by zero encountered in log\n",
      "  log_second_scaled = np.log(second_masked)\n"
     ]
    }
   ],
   "source": [
    "%%time\n",
    "# Original mutual information residue (G score)\n",
    "score_origin = utils.Feature_Selection.MI_score(train, rm_diag=True, lock=lock)\n",
    "sigma_origin = score_origin.sum(axis=1)\n",
    "print np.sum(score_origin) / (DIM * (DIM-1))"
   ]
  },
  {
   "cell_type": "markdown",
   "metadata": {},
   "source": [
    "#### Reference G Statistics"
   ]
  },
  {
   "cell_type": "code",
   "execution_count": 6,
   "metadata": {},
   "outputs": [
    {
     "name": "stdout",
     "output_type": "stream",
     "text": [
      "Reference G statistis at [99, 95, 90, 75, 50] percentile\n",
      "[0.018945423895224595, 0.01548685882263236, 0.013821022045587794, 0.011304266172500084, 0.008884051741608823]\n"
     ]
    }
   ],
   "source": [
    "percentages = [99,95,90,75,50]\n",
    "percentiles = [stats.chi2.ppf(x/100., (EFF_NVOCAB**2 - 1)) / (2 * NSAMPLE) for x in percentages]\n",
    "print 'Reference G statistis at {} percentile'.format(percentages)\n",
    "print percentiles"
   ]
  },
  {
   "cell_type": "markdown",
   "metadata": {},
   "source": [
    "## Mutual Information Residue if use the true label as the posterior distribution"
   ]
  },
  {
   "cell_type": "code",
   "execution_count": 7,
   "metadata": {},
   "outputs": [
    {
     "name": "stderr",
     "output_type": "stream",
     "text": [
      "/home/vzhao/.virtualenvs/tf/lib/python2.7/site-packages/ipykernel_launcher.py:7: RuntimeWarning: divide by zero encountered in log\n",
      "  import sys\n"
     ]
    }
   ],
   "source": [
    "# label to log_post\n",
    "def label2logpost(label, ncomp):\n",
    "    nsample = label.shape[0]\n",
    "    post = np.zeros((nsample, ncomp))\n",
    "    for i in xrange(nsample):\n",
    "        post[i, label[i]] = 1\n",
    "    return np.log(post)\n",
    "log_post = label2logpost(label,label.max()+1)\n",
    "utils.log_replace_neginf(log_post)"
   ]
  },
  {
   "cell_type": "code",
   "execution_count": 8,
   "metadata": {},
   "outputs": [
    {
     "name": "stdout",
     "output_type": "stream",
     "text": [
      "Mutual Information Residue if use the true label as the posterior distribution\n",
      "0.027165747111536548\n",
      "CPU times: user 294 ms, sys: 263 ms, total: 557 ms\n",
      "Wall time: 185 ms\n"
     ]
    }
   ],
   "source": [
    "%%time\n",
    "score, weights = MDPD.utils.Feature_Selection.MI_score_conditional(train, log_post, rm_diag=True, lock=lock)\n",
    "score_condition = score.sum(axis=1)\n",
    "print 'Mutual Information Residue if use the true label as the posterior distribution'\n",
    "print np.sum(score_condition * weights[np.newaxis, :]) / (DIM * (DIM - 1))"
   ]
  },
  {
   "cell_type": "markdown",
   "metadata": {},
   "source": [
    "#### [Plot] Mutual Information Residue if use the true label as the posterior distribution vs. Raw Residue"
   ]
  },
  {
   "cell_type": "code",
   "execution_count": 9,
   "metadata": {
    "scrolled": true
   },
   "outputs": [
    {
     "data": {
      "image/png": "[encoded data removed]",
      "text/plain": [
       "<matplotlib.figure.Figure at 0x7f0fe38f7710>"
      ]
     },
     "metadata": {},
     "output_type": "display_data"
    }
   ],
   "source": [
    "plt.figure()\n",
    "idx = np.argsort(sigma_origin)[::-1]\n",
    "for k in xrange(train.shape[2]-1 if np.any(lock) else train.shape[2]):\n",
    "    plt.plot(score_condition[idx,k]/(DIM - 1))\n",
    "plt.plot(sigma_origin[idx] / (DIM - 1), '--')\n",
    "# plot reference G statistics\n",
    "for foo in percentiles[:3]:\n",
    "    plt.plot([0, len(score)], [foo, foo], 'c--')\n",
    "plt.show()"
   ]
  },
  {
   "cell_type": "code",
   "execution_count": 10,
   "metadata": {},
   "outputs": [
    {
     "data": {
      "image/png": "[encoded data removed]",
      "text/plain": [
       "<matplotlib.figure.Figure at 0x7f0fe3842490>"
      ]
     },
     "metadata": {},
     "output_type": "display_data"
    }
   ],
   "source": [
    "plt.figure()\n",
    "plt.plot(sigma_origin[idx] / (DIM - 1), '--')\n",
    "plt.plot(np.sum(score_condition[idx,:] * weights[np.newaxis, :], axis=1) / (DIM - 1))\n",
    "# plot reference G statistics\n",
    "for foo in percentiles[:3]:\n",
    "    plt.plot([0, len(score)], [foo, foo], 'c--')\n",
    "plt.show()"
   ]
  },
  {
   "cell_type": "markdown",
   "metadata": {},
   "source": [
    "## Mixture Model with Feature Selection"
   ]
  },
  {
   "cell_type": "markdown",
   "metadata": {},
   "source": [
    "#### Feature Ranking"
   ]
  },
  {
   "cell_type": "code",
   "execution_count": null,
   "metadata": {},
   "outputs": [],
   "source": [
    "%%time\n",
    "features, sigma = utils.Feature_Selection.MI_feature_ranking(train, lock=lock)\n",
    "print features"
   ]
  },
  {
   "cell_type": "markdown",
   "metadata": {},
   "source": [
    "#### Accuracy and Mutual Information Residue"
   ]
  },
  {
   "cell_type": "code",
   "execution_count": 11,
   "metadata": {},
   "outputs": [],
   "source": [
    "Ntop = 15"
   ]
  },
  {
   "cell_type": "code",
   "execution_count": 12,
   "metadata": {},
   "outputs": [
    {
     "name": "stderr",
     "output_type": "stream",
     "text": [
      "2018-04-09 12:43:48,117 : INFO : Training an MDPD with dimension 109, 15 features, sample size 807, vocab size 5 and the target number of components 5\n",
      "MDPD/utils.py:94: RuntimeWarning: divide by zero encountered in log\n",
      "  log_votes = np.log(votes)\n",
      "MDPD/MDPD.py:241: RuntimeWarning: divide by zero encountered in log\n",
      "  log_margin_prob = np.log(data.sum(axis=0) / data.shape[0])\n",
      "MDPD/utils.py:221: RuntimeWarning: divide by zero encountered in log\n",
      "  log_second = np.log(second)\n",
      "MDPD/utils.py:222: RuntimeWarning: invalid value encountered in multiply\n",
      "  pmi = second * (log_second - log_first)\n",
      "2018-04-09 12:43:48,291 : INFO : iteration 0; log-likelihood (feature selection) -12.035329; log_likelihood -32.562607;information residue 0.004256\n",
      "2018-04-09 12:43:48,448 : INFO : iteration 1; log-likelihood (feature selection) -12.006543; log_likelihood -32.487970;information residue 0.004291\n",
      "2018-04-09 12:43:48,610 : INFO : iteration 2; log-likelihood (feature selection) -11.999150; log_likelihood -32.471514;information residue 0.004304\n",
      "2018-04-09 12:43:48,788 : INFO : iteration 3; log-likelihood (feature selection) -11.996296; log_likelihood -32.467396;information residue 0.004309\n",
      "2018-04-09 12:43:48,962 : INFO : iteration 4; log-likelihood (feature selection) -11.994876; log_likelihood -32.465826;information residue 0.004311\n",
      "2018-04-09 12:43:49,134 : INFO : iteration 5; log-likelihood (feature selection) -11.994073; log_likelihood -32.464899;information residue 0.004312\n",
      "2018-04-09 12:43:49,297 : INFO : iteration 6; log-likelihood (feature selection) -11.993604; log_likelihood -32.464430;information residue 0.004313\n",
      "2018-04-09 12:43:49,465 : INFO : iteration 7; log-likelihood (feature selection) -11.993336; log_likelihood -32.464374;information residue 0.004314\n",
      "2018-04-09 12:43:49,640 : INFO : iteration 8; log-likelihood (feature selection) -11.993184; log_likelihood -32.464571;information residue 0.004315\n",
      "2018-04-09 12:43:49,808 : INFO : iteration 9; log-likelihood (feature selection) -11.993095; log_likelihood -32.464852;information residue 0.004315\n",
      "2018-04-09 12:43:49,987 : INFO : iteration 10; log-likelihood (feature selection) -11.993039; log_likelihood -32.465115;information residue 0.004316\n",
      "2018-04-09 12:43:50,268 : INFO : iteration 11; log-likelihood (feature selection) -11.993004; log_likelihood -32.465319;information residue 0.004316\n",
      "2018-04-09 12:43:50,440 : INFO : iteration 12; log-likelihood (feature selection) -11.992981; log_likelihood -32.465461;information residue 0.004317\n",
      "2018-04-09 12:43:50,603 : INFO : iteration 13; log-likelihood (feature selection) -11.992966; log_likelihood -32.465554;information residue 0.004317\n",
      "2018-04-09 12:43:50,763 : INFO : iteration 14; log-likelihood (feature selection) -11.992955; log_likelihood -32.465614;information residue 0.004317\n",
      "2018-04-09 12:43:50,927 : INFO : iteration 15; log-likelihood (feature selection) -11.992948; log_likelihood -32.465651;information residue 0.004317\n",
      "2018-04-09 12:43:51,076 : INFO : iteration 16; log-likelihood (feature selection) -11.992943; log_likelihood -32.465674;information residue 0.004317\n",
      "2018-04-09 12:43:51,238 : INFO : iteration 17; log-likelihood (feature selection) -11.992940; log_likelihood -32.465689;information residue 0.004317\n",
      "2018-04-09 12:43:51,399 : INFO : iteration 18; log-likelihood (feature selection) -11.992937; log_likelihood -32.465699;information residue 0.004317\n",
      "2018-04-09 12:43:51,559 : INFO : iteration 19; log-likelihood (feature selection) -11.992936; log_likelihood -32.465705;information residue 0.004317\n",
      "2018-04-09 12:43:51,724 : INFO : iteration 20; log-likelihood (feature selection) -11.992935; log_likelihood -32.465709;information residue 0.004317\n",
      "2018-04-09 12:43:51,875 : INFO : iteration 21; log-likelihood (feature selection) -11.992934; log_likelihood -32.465712;information residue 0.004317\n",
      "2018-04-09 12:43:52,027 : INFO : iteration 22; log-likelihood (feature selection) -11.992933; log_likelihood -32.465714;information residue 0.004317\n",
      "2018-04-09 12:43:52,191 : INFO : iteration 23; log-likelihood (feature selection) -11.992933; log_likelihood -32.465715;information residue 0.004317\n",
      "2018-04-09 12:43:52,352 : INFO : iteration 24; log-likelihood (feature selection) -11.992932; log_likelihood -32.465716;information residue 0.004317\n",
      "2018-04-09 12:43:52,509 : INFO : iteration 25; log-likelihood (feature selection) -11.992932; log_likelihood -32.465716;information residue 0.004317\n",
      "2018-04-09 12:43:52,680 : INFO : iteration 26; log-likelihood (feature selection) -11.992932; log_likelihood -32.465717;information residue 0.004317\n",
      "2018-04-09 12:43:52,830 : INFO : iteration 27; log-likelihood (feature selection) -11.992932; log_likelihood -32.465717;information residue 0.004318\n",
      "2018-04-09 12:43:52,996 : INFO : iteration 28; log-likelihood (feature selection) -11.992932; log_likelihood -32.465717;information residue 0.004318\n",
      "2018-04-09 12:43:53,165 : INFO : iteration 29; log-likelihood (feature selection) -11.992932; log_likelihood -32.465717;information residue 0.004318\n",
      "2018-04-09 12:43:53,453 : INFO : iteration 30; log-likelihood (feature selection) -11.992932; log_likelihood -32.465718;information residue 0.004318\n",
      "2018-04-09 12:43:53,613 : INFO : iteration 31; log-likelihood (feature selection) -11.992932; log_likelihood -32.465718;information residue 0.004318\n",
      "2018-04-09 12:43:53,789 : INFO : iteration 32; log-likelihood (feature selection) -11.992932; log_likelihood -32.465718;information residue 0.004318\n",
      "2018-04-09 12:43:54,009 : INFO : iteration 33; log-likelihood (feature selection) -11.992932; log_likelihood -32.465718;information residue 0.004318\n",
      "2018-04-09 12:43:54,158 : INFO : iteration 34; log-likelihood (feature selection) -11.992932; log_likelihood -32.465718;information residue 0.004318\n",
      "2018-04-09 12:43:54,311 : INFO : iteration 35; log-likelihood (feature selection) -11.992932; log_likelihood -32.465718;information residue 0.004318\n",
      "2018-04-09 12:43:54,467 : INFO : iteration 36; log-likelihood (feature selection) -11.992932; log_likelihood -32.465718;information residue 0.004318\n",
      "2018-04-09 12:43:54,640 : INFO : iteration 37; log-likelihood (feature selection) -11.992932; log_likelihood -32.465718;information residue 0.004318\n",
      "2018-04-09 12:43:54,805 : INFO : iteration 38; log-likelihood (feature selection) -11.992932; log_likelihood -32.465718;information residue 0.004318\n",
      "2018-04-09 12:43:55,010 : INFO : iteration 39; log-likelihood (feature selection) -11.992932; log_likelihood -32.465718;information residue 0.004318\n",
      "2018-04-09 12:43:55,179 : INFO : iteration 40; log-likelihood (feature selection) -11.992932; log_likelihood -32.465718;information residue 0.004318\n",
      "2018-04-09 12:43:55,329 : INFO : iteration 41; log-likelihood (feature selection) -11.992932; log_likelihood -32.465718;information residue 0.004318\n",
      "2018-04-09 12:43:55,493 : INFO : iteration 42; log-likelihood (feature selection) -11.992932; log_likelihood -32.465718;information residue 0.004318\n",
      "2018-04-09 12:43:55,644 : INFO : iteration 43; log-likelihood (feature selection) -11.992932; log_likelihood -32.465718;information residue 0.004318\n",
      "2018-04-09 12:43:55,807 : INFO : iteration 44; log-likelihood (feature selection) -11.992932; log_likelihood -32.465718;information residue 0.004318\n",
      "2018-04-09 12:43:55,978 : INFO : iteration 45; log-likelihood (feature selection) -11.992932; log_likelihood -32.465718;information residue 0.004318\n",
      "2018-04-09 12:43:56,146 : INFO : iteration 46; log-likelihood (feature selection) -11.992932; log_likelihood -32.465718;information residue 0.004318\n",
      "2018-04-09 12:43:56,294 : INFO : iteration 47; log-likelihood (feature selection) -11.992932; log_likelihood -32.465718;information residue 0.004318\n",
      "2018-04-09 12:43:56,463 : INFO : iteration 48; log-likelihood (feature selection) -11.992932; log_likelihood -32.465718;information residue 0.004318\n",
      "2018-04-09 12:43:56,626 : INFO : iteration 49; log-likelihood (feature selection) -11.992932; log_likelihood -32.465718;information residue 0.004318\n",
      "2018-04-09 12:43:56,643 : INFO : ACCURACY: 80.30%\n",
      "2018-04-09 12:43:56,865 : INFO : The mutual information residue (include all features) is 0.0328652941158\n",
      "2018-04-09 12:43:56,867 : INFO : The mutual information residue (within selected features) is 0.0359162124993\n"
     ]
    }
   ],
   "source": [
    "# Feature Selection\n",
    "model = MDPD.MDPD_standard()\n",
    "model.fit(train, ncomp=5, init='majority', verbose=True, features=Ntop, epoch=50, lock=lock)\n",
    "model.accuracy(train, label)\n",
    "model.MI_residue(train)"
   ]
  },
  {
   "cell_type": "code",
   "execution_count": null,
   "metadata": {},
   "outputs": [],
   "source": [
    "# optional\n",
    "model.change_features(train, features=range(model.dim))\n",
    "model.accuracy(train, label)"
   ]
  },
  {
   "cell_type": "markdown",
   "metadata": {},
   "source": [
    "#### [Plot] Mutual Information Residue vs the Residue of the Raw Data"
   ]
  },
  {
   "cell_type": "code",
   "execution_count": null,
   "metadata": {},
   "outputs": [],
   "source": [
    "log_post = model.log_posterior(train)\n",
    "score, weights = utils.Feature_Selection.MI_score_conditional(train, log_post, rm_diag=True, lock=lock)\n",
    "sigma_condition = score.sum(axis=1)\n",
    "print 'Mutual Information Residue of the model with feature selection'\n",
    "print np.sum(sigma_condition * weights[np.newaxis, :]) / (DIM * (DIM - 1))"
   ]
  },
  {
   "cell_type": "code",
   "execution_count": null,
   "metadata": {},
   "outputs": [],
   "source": [
    "plt.figure()\n",
    "idx = np.argsort(sigma_origin)[::-1]\n",
    "for k in xrange(train.shape[2]-1 if np.any(lock) else train.shape[2]):\n",
    "    plt.plot(score_condition[idx,k]/(DIM-1))\n",
    "plt.plot(sigma_origin[idx] / (DIM-1), '--')\n",
    "# plot reference G statistics\n",
    "for foo in percentiles[:3]:\n",
    "    plt.plot([0, len(score)], [foo, foo], 'c--')\n",
    "plt.show()"
   ]
  },
  {
   "cell_type": "code",
   "execution_count": null,
   "metadata": {},
   "outputs": [],
   "source": [
    "plt.figure()\n",
    "plt.plot(sigma_origin[idx] / (DIM-1), '--')\n",
    "plt.plot(np.sum(score_condition[idx, :] * weights[np.newaxis, :], axis=1) / (DIM-1))\n",
    "# plot reference G statistics\n",
    "for foo in percentiles[:3]:\n",
    "    plt.plot([0, len(score)], [foo, foo], 'c--')\n",
    "plt.show()"
   ]
  },
  {
   "cell_type": "markdown",
   "metadata": {},
   "source": [
    "## Vanilla Model Performance\n",
    "#### Accuracy and Mutual Information Residue"
   ]
  },
  {
   "cell_type": "code",
   "execution_count": null,
   "metadata": {},
   "outputs": [],
   "source": [
    "# basic model with majority vote initialization\n",
    "model_basic = MDPD.MDPD_standard()\n",
    "model_basic.fit(train, ncomp=EFF_NVOCAB, init='majority', verbose=False, epoch=50, lock=lock)\n",
    "model_basic.accuracy(train, label)\n",
    "model_basic.MI_residue(train)"
   ]
  },
  {
   "cell_type": "code",
   "execution_count": null,
   "metadata": {},
   "outputs": [],
   "source": [
    "log_post = model_basic.log_posterior(train)\n",
    "score, weights = MDPD.utils.Feature_Selection.MI_score_conditional(train, log_post, rm_diag=True, lock=lock)\n",
    "score_condition = score.sum(axis=1)\n",
    "print 'Mutual Information Residue if use the true label as the posterior distribution'\n",
    "print np.sum(score_condition * weights[np.newaxis, :]) / (DIM * (DIM - 1))\n",
    "\n",
    "print 'Mutual Information Residue (within the selected features)'\n",
    "score_select = score[features[:Ntop, np.newaxis], features[:Ntop], :]\n",
    "res_select = np.sum(score_select.sum(axis=1) * weights[np.newaxis, :]) / (Ntop * (Ntop - 1))\n",
    "print res_select"
   ]
  },
  {
   "cell_type": "markdown",
   "metadata": {},
   "source": [
    "#### [Plot] Mutual Information Residue vs the Residue of the Raw Data"
   ]
  },
  {
   "cell_type": "code",
   "execution_count": null,
   "metadata": {},
   "outputs": [],
   "source": [
    "plt.figure()\n",
    "idx = np.argsort(sigma_origin)[::-1]\n",
    "for k in xrange(train.shape[2]-1 if np.any(lock) else train.shape[2]):\n",
    "    plt.plot(score_condition[idx,k]/(DIM - 1))\n",
    "plt.plot(sigma_origin[idx] / (DIM - 1), '--')\n",
    "# plot reference G statistics\n",
    "for foo in percentiles[:3]:\n",
    "    plt.plot([0, len(score)], [foo, foo], 'c--')\n",
    "plt.show()"
   ]
  },
  {
   "cell_type": "code",
   "execution_count": null,
   "metadata": {},
   "outputs": [],
   "source": [
    "plt.figure()\n",
    "plt.plot(sigma_origin[idx] / (DIM - 1), '--')\n",
    "plt.plot(np.sum(score_condition[idx,:] * weights[np.newaxis, :], axis=1) / (DIM - 1))\n",
    "# plot reference G statistics\n",
    "for foo in percentiles[:3]:\n",
    "    plt.plot([0, len(score)], [foo, foo], 'c--')\n",
    "plt.show()"
   ]
  },
  {
   "cell_type": "code",
   "execution_count": null,
   "metadata": {},
   "outputs": [],
   "source": []
  }
 ],
 "metadata": {
  "kernelspec": {
   "display_name": "Python 2",
   "language": "python",
   "name": "python2"
  },
  "language_info": {
   "codemirror_mode": {
    "name": "ipython",
    "version": 2
   },
   "file_extension": ".py",
   "mimetype": "text/x-python",
   "name": "python",
   "nbconvert_exporter": "python",
   "pygments_lexer": "ipython2",
   "version": "2.7.14"
  }
 },
 "nbformat": 4,
 "nbformat_minor": 2
}
