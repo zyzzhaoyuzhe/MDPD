{
 "cells": [
  {
   "cell_type": "code",
   "execution_count": 1,
   "metadata": {},
   "outputs": [],
   "source": [
    "from __future__ import division\n",
    "\n",
    "import os\n",
    "import numpy as np\n",
    "import time, timeit\n",
    "import signal\n",
    "import scipy.io as scio\n",
    "from scipy import stats\n",
    "from scipy.sparse import coo_matrix\n",
    "from MDPD.readers import *\n",
    "from MDPD import utils, MDPD\n",
    "import matplotlib.pyplot as plt\n",
    "import matplotlib"
   ]
  },
  {
   "cell_type": "markdown",
   "metadata": {},
   "source": [
    "----\n",
    "## Read Data"
   ]
  },
  {
   "cell_type": "code",
   "execution_count": 2,
   "metadata": {},
   "outputs": [],
   "source": [
    "folder = '/media/vzhao/Data/crowdsourcing_datasets/'\n",
    "# folder = '/Users/vincent/Documents/Research/MDPD/crowdsourcing_datasets'"
   ]
  },
  {
   "cell_type": "code",
   "execution_count": null,
   "metadata": {},
   "outputs": [],
   "source": [
    "reader = Crowd_Sourcing_Readers(os.path.join(folder, 'bird', 'bluebird_crowd.txt'), os.path.join(folder, 'bird', 'bluebird_truth.txt'))\n",
    "train, label = reader.data, reader.labels\n",
    "lock = np.zeros(train.shape[1:], dtype=np.bool)\n",
    "print(train.shape)"
   ]
  },
  {
   "cell_type": "code",
   "execution_count": null,
   "metadata": {},
   "outputs": [],
   "source": [
    "reader = Crowd_Sourcing_Readers(os.path.join(folder, 'dog', 'dog_crowd.txt'), os.path.join(folder, 'dog', 'dog_truth.txt'))\n",
    "train, label = reader.data, reader.labels\n",
    "lock = np.zeros(train.shape[1:],dtype=np.bool)\n",
    "lock[:, -1] = 1\n",
    "print train.shape"
   ]
  },
  {
   "cell_type": "code",
   "execution_count": null,
   "metadata": {},
   "outputs": [],
   "source": [
    "reader = Crowd_Sourcing_Readers(os.path.join(folder, 'rte', 'rte_crowd.txt'), os.path.join(folder, 'rte', 'rte_truth.txt'))\n",
    "train, label = reader.data, reader.labels\n",
    "lock = np.zeros(train.shape[1:],dtype=np.bool)\n",
    "lock[:, -1] = 1\n",
    "print(train.shape)"
   ]
  },
  {
   "cell_type": "code",
   "execution_count": null,
   "metadata": {},
   "outputs": [],
   "source": [
    "reader = Crowd_Sourcing_Readers(os.path.join(folder, 'trec', 'trec_crowd.txt'), os.path.join(folder, 'trec', 'trec_truth.txt'))\n",
    "train, label = reader.data, reader.labels\n",
    "lock = np.zeros(train.shape[1:],dtype=np.bool)\n",
    "lock[:, -1] = 1\n",
    "print train.shape"
   ]
  },
  {
   "cell_type": "code",
   "execution_count": 3,
   "metadata": {},
   "outputs": [
    {
     "name": "stderr",
     "output_type": "stream",
     "text": [
      "2018-05-16 22:19:00,485 : INFO : Data has missing values. A new label is created to represent the missing values.\n"
     ]
    },
    {
     "name": "stdout",
     "output_type": "stream",
     "text": [
      "(2653, 177, 6)\n"
     ]
    }
   ],
   "source": [
    "reader = Crowd_Sourcing_Readers(os.path.join(folder, 'web', 'web_crowd.txt'), os.path.join(folder, 'web', 'web_truth.txt'))\n",
    "train, label = reader.data, reader.labels\n",
    "lock = np.zeros(train.shape[1:],dtype=np.bool)\n",
    "lock[:, -1] = 1\n",
    "print(train.shape)"
   ]
  },
  {
   "cell_type": "markdown",
   "metadata": {},
   "source": [
    "#### Update global variables"
   ]
  },
  {
   "cell_type": "code",
   "execution_count": 4,
   "metadata": {},
   "outputs": [],
   "source": [
    "NSAMPLE, DIM, NVOCAB = train.shape\n",
    "EFF_NVOCAB = NVOCAB-1 if reader.is_missing_value else NVOCAB"
   ]
  },
  {
   "cell_type": "markdown",
   "metadata": {},
   "source": [
    "---\n",
    "# Analysis"
   ]
  },
  {
   "cell_type": "markdown",
   "metadata": {},
   "source": [
    "## Original Mutual Information Residue"
   ]
  },
  {
   "cell_type": "code",
   "execution_count": null,
   "metadata": {},
   "outputs": [],
   "source": [
    "%%time\n",
    "# Original mutual information residue (G score)\n",
    "score_origin = utils.Feature_Selection.MI_score(train, rm_diag=True, lock=lock)\n",
    "sigma_origin = score_origin.sum(axis=1)\n",
    "print(np.sum(score_origin) / (DIM * (DIM-1)))"
   ]
  },
  {
   "cell_type": "markdown",
   "metadata": {},
   "source": [
    "#### Reference G Statistics"
   ]
  },
  {
   "cell_type": "code",
   "execution_count": null,
   "metadata": {},
   "outputs": [],
   "source": [
    "percentages = [99,95,90,75,50]\n",
    "percentiles = [stats.chi2.ppf(x/100., (EFF_NVOCAB**2 - 1)) / (2 * NSAMPLE) for x in percentages]\n",
    "print('Reference G statistis at {} percentile'.format(percentages))\n",
    "print(percentiles)"
   ]
  },
  {
   "cell_type": "markdown",
   "metadata": {},
   "source": [
    "---\n",
    "## Mutual Information Residue if use the true label as the posterior distribution"
   ]
  },
  {
   "cell_type": "code",
   "execution_count": null,
   "metadata": {},
   "outputs": [],
   "source": [
    "# label to log_post\n",
    "def label2logpost(label, ncomp):\n",
    "    nsample = label.shape[0]\n",
    "    post = np.zeros((nsample, ncomp))\n",
    "    for i in range(nsample):\n",
    "        post[i, label[i]] = 1\n",
    "    return np.log(post)\n",
    "log_post = label2logpost(label,label.max()+1)\n",
    "utils.log_replace_neginf(log_post)"
   ]
  },
  {
   "cell_type": "code",
   "execution_count": null,
   "metadata": {},
   "outputs": [],
   "source": [
    "%%time\n",
    "score, weights = MDPD.utils.Feature_Selection.MI_score_conditional(train, log_post, rm_diag=True, lock=lock)\n",
    "score_condition = score.sum(axis=1)\n",
    "print('Mutual Information Residue if use the true label as the posterior distribution')\n",
    "print(np.sum(score_condition * weights[np.newaxis, :]) / (DIM * (DIM - 1)))"
   ]
  },
  {
   "cell_type": "markdown",
   "metadata": {},
   "source": [
    "#### [Plot] Mutual Information Residue if use the true label as the posterior distribution vs. Raw Residue"
   ]
  },
  {
   "cell_type": "code",
   "execution_count": null,
   "metadata": {
    "scrolled": true
   },
   "outputs": [],
   "source": [
    "plt.figure()\n",
    "idx = np.argsort(sigma_origin)[::-1]\n",
    "for k in range(train.shape[2]-1 if np.any(lock) else train.shape[2]):\n",
    "    plt.plot(score_condition[idx,k]/(DIM - 1))\n",
    "plt.plot(sigma_origin[idx] / (DIM - 1), '--')\n",
    "# plot reference G statistics\n",
    "for foo in percentiles[:3]:\n",
    "    plt.plot([0, len(score)], [foo, foo], 'c--')\n",
    "plt.show()"
   ]
  },
  {
   "cell_type": "code",
   "execution_count": null,
   "metadata": {},
   "outputs": [],
   "source": [
    "plt.figure()\n",
    "plt.plot(sigma_origin[idx] / (DIM - 1), '--')\n",
    "plt.plot(np.sum(score_condition[idx,:] * weights[np.newaxis, :], axis=1) / (DIM - 1))\n",
    "# plot reference G statistics\n",
    "for foo in percentiles[:3]:\n",
    "    plt.plot([0, len(score)], [foo, foo], 'c--')\n",
    "plt.show()"
   ]
  },
  {
   "cell_type": "markdown",
   "metadata": {},
   "source": [
    "---\n",
    "## Mixture Model with Feature Selection"
   ]
  },
  {
   "cell_type": "markdown",
   "metadata": {},
   "source": [
    "#### Feature Ranking"
   ]
  },
  {
   "cell_type": "code",
   "execution_count": 5,
   "metadata": {},
   "outputs": [
    {
     "name": "stdout",
     "output_type": "stream",
     "text": [
      "[  2   7   0  11  12   6   1  15  25  13  10   3  44  32 102   5  69  38\n",
      "  29  36   8  62 106  58 103  56  46  27  24  23  52  51  28  41  21  31\n",
      "  74  68  33  35  77  99  75  64 114  50  82  17 142 109 117  65 107 100\n",
      "  30 129  93  19  26 105  40  86  98  90  59  37  91 112  78  34  81  67\n",
      " 120 126   4  70 134  61   9  83  47  18 130  71  49 135 124  96 127  92\n",
      " 119  72  88 104  48 108  55  85 144  14 118  16  39  87 101  60 139  89\n",
      "  54 155 140 132  63  84  94 113 138 145  95 158  22  42 116 165  80  57\n",
      "  45  66 164 143  53 147  76 125 161 123 128 153 141 121  79  20  97 131\n",
      " 111 160 122  43 157  73 115 133 110 156 148 150 173 137 146 162 168 159\n",
      " 175 169 167 176 163 171 136 172 166 151 154 170 149 174 152]\n",
      "CPU times: user 416 ms, sys: 41.3 ms, total: 457 ms\n",
      "Wall time: 165 ms\n"
     ]
    },
    {
     "name": "stderr",
     "output_type": "stream",
     "text": [
      "/home/vzhao/Documents/Projects/MDPD/python/MDPD/utils.py:238: RuntimeWarning: divide by zero encountered in log\n",
      "  log_second_scaled = np.log(second_masked)\n"
     ]
    }
   ],
   "source": [
    "%%time\n",
    "score = utils.Feature_Selection.MI_score(train, lock=lock)\n",
    "sigma = score.sum(axis=1)\n",
    "features = np.argsort(sigma)[::-1]\n",
    "sigma = sigma[features]\n",
    "# features, sigma = utils.Feature_Selection.MI_feature_ranking(train, lock=lock)\n",
    "print(features)"
   ]
  },
  {
   "cell_type": "markdown",
   "metadata": {},
   "source": [
    "#### Accuracy and Mutual Information Residue"
   ]
  },
  {
   "cell_type": "code",
   "execution_count": 6,
   "metadata": {},
   "outputs": [],
   "source": [
    "Ntop = 15"
   ]
  },
  {
   "cell_type": "code",
   "execution_count": 7,
   "metadata": {},
   "outputs": [
    {
     "name": "stderr",
     "output_type": "stream",
     "text": [
      "2018-05-16 22:19:48,063 : INFO : Training an MDPD using batch EM \n",
      "\t dimension 177 \n",
      "\t 15 features \n",
      "\t sample size 2653 \n",
      "\t vocab size 6 \n",
      "\t the target number of components 5\n",
      "/home/vzhao/Documents/Projects/MDPD/python/MDPD/utils.py:102: RuntimeWarning: divide by zero encountered in log\n",
      "  log_votes = np.log(votes)\n",
      "/home/vzhao/Documents/Projects/MDPD/python/MDPD/utils.py:247: RuntimeWarning: divide by zero encountered in log\n",
      "  log_second = np.log(second)\n",
      "/home/vzhao/Documents/Projects/MDPD/python/MDPD/utils.py:248: RuntimeWarning: invalid value encountered in multiply\n",
      "  pmi = second * (log_second - log_first)\n",
      "2018-05-16 22:19:49,915 : INFO : iteration 0; log-likelihood (feature selection) 97.025492; log_likelihood 569.561290;information residue 0.001060\n",
      "2018-05-16 22:19:51,639 : INFO : iteration 1; log-likelihood (feature selection) 97.034741; log_likelihood 569.579014;information residue 0.001064\n",
      "2018-05-16 22:19:53,304 : INFO : iteration 2; log-likelihood (feature selection) 97.037768; log_likelihood 569.584658;information residue 0.001066\n",
      "2018-05-16 22:19:55,202 : INFO : iteration 3; log-likelihood (feature selection) 97.039161; log_likelihood 569.587125;information residue 0.001067\n",
      "2018-05-16 22:19:57,076 : INFO : iteration 4; log-likelihood (feature selection) 97.039917; log_likelihood 569.588445;information residue 0.001068\n",
      "2018-05-16 22:19:59,168 : INFO : iteration 5; log-likelihood (feature selection) 97.040378; log_likelihood 569.589262;information residue 0.001068\n",
      "2018-05-16 22:20:01,296 : INFO : iteration 6; log-likelihood (feature selection) 97.040684; log_likelihood 569.589821;information residue 0.001068\n",
      "2018-05-16 22:20:03,678 : INFO : iteration 7; log-likelihood (feature selection) 97.040902; log_likelihood 569.590230;information residue 0.001069\n",
      "2018-05-16 22:20:05,390 : INFO : iteration 8; log-likelihood (feature selection) 97.041064; log_likelihood 569.590542;information residue 0.001069\n",
      "2018-05-16 22:20:07,285 : INFO : iteration 9; log-likelihood (feature selection) 97.041190; log_likelihood 569.590786;information residue 0.001069\n",
      "2018-05-16 22:20:09,068 : INFO : iteration 10; log-likelihood (feature selection) 97.041291; log_likelihood 569.590979;information residue 0.001069\n",
      "2018-05-16 22:20:10,988 : INFO : iteration 11; log-likelihood (feature selection) 97.041373; log_likelihood 569.591134;information residue 0.001069\n",
      "2018-05-16 22:20:12,791 : INFO : iteration 12; log-likelihood (feature selection) 97.041442; log_likelihood 569.591259;information residue 0.001070\n",
      "2018-05-16 22:20:15,063 : INFO : iteration 13; log-likelihood (feature selection) 97.041500; log_likelihood 569.591360;information residue 0.001070\n",
      "2018-05-16 22:20:17,329 : INFO : iteration 14; log-likelihood (feature selection) 97.041550; log_likelihood 569.591443;information residue 0.001070\n",
      "2018-05-16 22:20:19,225 : INFO : iteration 15; log-likelihood (feature selection) 97.041592; log_likelihood 569.591510;information residue 0.001070\n",
      "2018-05-16 22:20:21,480 : INFO : iteration 16; log-likelihood (feature selection) 97.041629; log_likelihood 569.591565;information residue 0.001070\n",
      "2018-05-16 22:20:23,187 : INFO : iteration 17; log-likelihood (feature selection) 97.041661; log_likelihood 569.591611;information residue 0.001070\n",
      "2018-05-16 22:20:25,113 : INFO : iteration 18; log-likelihood (feature selection) 97.041689; log_likelihood 569.591648;information residue 0.001070\n",
      "2018-05-16 22:20:27,209 : INFO : iteration 19; log-likelihood (feature selection) 97.041713; log_likelihood 569.591679;information residue 0.001070\n",
      "2018-05-16 22:20:28,816 : INFO : iteration 20; log-likelihood (feature selection) 97.041735; log_likelihood 569.591705;information residue 0.001070\n",
      "2018-05-16 22:20:30,670 : INFO : iteration 21; log-likelihood (feature selection) 97.041753; log_likelihood 569.591726;information residue 0.001070\n",
      "2018-05-16 22:20:32,342 : INFO : iteration 22; log-likelihood (feature selection) 97.041770; log_likelihood 569.591744;information residue 0.001070\n",
      "2018-05-16 22:20:34,391 : INFO : iteration 23; log-likelihood (feature selection) 97.041784; log_likelihood 569.591759;information residue 0.001070\n",
      "2018-05-16 22:20:36,200 : INFO : iteration 24; log-likelihood (feature selection) 97.041797; log_likelihood 569.591771;information residue 0.001070\n",
      "2018-05-16 22:20:37,918 : INFO : iteration 25; log-likelihood (feature selection) 97.041808; log_likelihood 569.591782;information residue 0.001070\n",
      "2018-05-16 22:20:39,763 : INFO : iteration 26; log-likelihood (feature selection) 97.041818; log_likelihood 569.591790;information residue 0.001070\n",
      "2018-05-16 22:20:41,445 : INFO : iteration 27; log-likelihood (feature selection) 97.041827; log_likelihood 569.591797;information residue 0.001070\n",
      "2018-05-16 22:20:43,176 : INFO : iteration 28; log-likelihood (feature selection) 97.041835; log_likelihood 569.591803;information residue 0.001070\n",
      "2018-05-16 22:20:45,087 : INFO : iteration 29; log-likelihood (feature selection) 97.041842; log_likelihood 569.591808;information residue 0.001070\n",
      "2018-05-16 22:20:46,769 : INFO : iteration 30; log-likelihood (feature selection) 97.041848; log_likelihood 569.591812;information residue 0.001070\n",
      "2018-05-16 22:20:48,794 : INFO : iteration 31; log-likelihood (feature selection) 97.041854; log_likelihood 569.591816;information residue 0.001070\n",
      "2018-05-16 22:20:50,532 : INFO : iteration 32; log-likelihood (feature selection) 97.041859; log_likelihood 569.591818;information residue 0.001070\n",
      "2018-05-16 22:20:52,384 : INFO : iteration 33; log-likelihood (feature selection) 97.041863; log_likelihood 569.591820;information residue 0.001070\n",
      "2018-05-16 22:20:54,127 : INFO : iteration 34; log-likelihood (feature selection) 97.041867; log_likelihood 569.591822;information residue 0.001070\n",
      "2018-05-16 22:20:55,775 : INFO : iteration 35; log-likelihood (feature selection) 97.041870; log_likelihood 569.591823;information residue 0.001070\n",
      "2018-05-16 22:20:57,457 : INFO : iteration 36; log-likelihood (feature selection) 97.041873; log_likelihood 569.591824;information residue 0.001070\n",
      "2018-05-16 22:20:59,236 : INFO : iteration 37; log-likelihood (feature selection) 97.041876; log_likelihood 569.591824;information residue 0.001070\n",
      "2018-05-16 22:21:01,170 : INFO : iteration 38; log-likelihood (feature selection) 97.041879; log_likelihood 569.591824;information residue 0.001070\n",
      "2018-05-16 22:21:03,083 : INFO : iteration 39; log-likelihood (feature selection) 97.041881; log_likelihood 569.591824;information residue 0.001070\n",
      "2018-05-16 22:21:05,004 : INFO : iteration 40; log-likelihood (feature selection) 97.041883; log_likelihood 569.591824;information residue 0.001070\n",
      "2018-05-16 22:21:06,914 : INFO : iteration 41; log-likelihood (feature selection) 97.041885; log_likelihood 569.591824;information residue 0.001070\n",
      "2018-05-16 22:21:08,638 : INFO : iteration 42; log-likelihood (feature selection) 97.041886; log_likelihood 569.591823;information residue 0.001070\n",
      "2018-05-16 22:21:10,386 : INFO : iteration 43; log-likelihood (feature selection) 97.041888; log_likelihood 569.591822;information residue 0.001070\n",
      "2018-05-16 22:21:12,343 : INFO : iteration 44; log-likelihood (feature selection) 97.041889; log_likelihood 569.591822;information residue 0.001071\n",
      "2018-05-16 22:21:14,153 : INFO : iteration 45; log-likelihood (feature selection) 97.041890; log_likelihood 569.591821;information residue 0.001071\n",
      "2018-05-16 22:21:16,121 : INFO : iteration 46; log-likelihood (feature selection) 97.041891; log_likelihood 569.591820;information residue 0.001071\n",
      "2018-05-16 22:21:18,129 : INFO : iteration 47; log-likelihood (feature selection) 97.041892; log_likelihood 569.591819;information residue 0.001071\n",
      "2018-05-16 22:21:19,831 : INFO : iteration 48; log-likelihood (feature selection) 97.041893; log_likelihood 569.591818;information residue 0.001071\n",
      "2018-05-16 22:21:21,522 : INFO : iteration 49; log-likelihood (feature selection) 97.041894; log_likelihood 569.591816;information residue 0.001071\n",
      "2018-05-16 22:21:21,526 : INFO : NOTE: all records and stats are exported to /home/vzhao/Documents/Projects/MDPD/tmp44j_0hji\n",
      "2018-05-16 22:21:21,549 : INFO : ACCURACY: 89.82%\n",
      "/home/vzhao/Documents/Projects/MDPD/python/MDPD/utils.py:238: RuntimeWarning: divide by zero encountered in log\n",
      "  log_second_scaled = np.log(second_masked)\n"
     ]
    },
    {
     "name": "stderr",
     "output_type": "stream",
     "text": [
      "2018-05-16 22:21:23,120 : INFO : The mutual information residue (include all features) is 0.02540336806757374\n",
      "2018-05-16 22:21:23,122 : INFO : The mutual information residue (within selected features) is 0.11764949348692147\n"
     ]
    }
   ],
   "source": [
    "# Feature Selection\n",
    "model = MDPD.MDPD_standard()\n",
    "model.fit(train, 5, features=features[:Ntop], init='majority', verbose=True, epoch=50, lock=lock)\n",
    "model.accuracy(train, label)\n",
    "model.MI_residue(train)"
   ]
  },
  {
   "cell_type": "code",
   "execution_count": null,
   "metadata": {},
   "outputs": [],
   "source": [
    "model.save('tmp.p')"
   ]
  },
  {
   "cell_type": "code",
   "execution_count": null,
   "metadata": {},
   "outputs": [],
   "source": [
    "# optional\n",
    "model.change_features(train, features=range(model.dim))\n",
    "model.accuracy(train, label)"
   ]
  },
  {
   "cell_type": "markdown",
   "metadata": {},
   "source": [
    "#### [Plot] Mutual Information Residue vs the Residue of the Raw Data"
   ]
  },
  {
   "cell_type": "code",
   "execution_count": null,
   "metadata": {},
   "outputs": [],
   "source": [
    "log_post = model.log_posterior(train)\n",
    "score, weights = utils.Feature_Selection.MI_score_conditional(train, log_post, rm_diag=True, lock=lock)\n",
    "sigma_condition = score.sum(axis=1)\n",
    "print 'Mutual Information Residue of the model with feature selection'\n",
    "print np.sum(sigma_condition * weights[np.newaxis, :]) / (DIM * (DIM - 1))"
   ]
  },
  {
   "cell_type": "code",
   "execution_count": null,
   "metadata": {},
   "outputs": [],
   "source": [
    "plt.figure()\n",
    "idx = np.argsort(sigma_origin)[::-1]\n",
    "for k in xrange(train.shape[2]-1 if np.any(lock) else train.shape[2]):\n",
    "    plt.plot(score_condition[idx,k]/(DIM-1))\n",
    "plt.plot(sigma_origin[idx] / (DIM-1), '--')\n",
    "# plot reference G statistics\n",
    "for foo in percentiles[:3]:\n",
    "    plt.plot([0, len(score)], [foo, foo], 'c--')\n",
    "plt.show()"
   ]
  },
  {
   "cell_type": "code",
   "execution_count": null,
   "metadata": {},
   "outputs": [],
   "source": [
    "plt.figure()\n",
    "plt.plot(sigma_origin[idx] / (DIM-1), '--')\n",
    "plt.plot(np.sum(score_condition[idx, :] * weights[np.newaxis, :], axis=1) / (DIM-1))\n",
    "# plot reference G statistics\n",
    "for foo in percentiles[:3]:\n",
    "    plt.plot([0, len(score)], [foo, foo], 'c--')\n",
    "plt.show()"
   ]
  },
  {
   "cell_type": "markdown",
   "metadata": {},
   "source": [
    "## Vanilla Model Performance\n",
    "#### Accuracy and Mutual Information Residue"
   ]
  },
  {
   "cell_type": "code",
   "execution_count": null,
   "metadata": {},
   "outputs": [],
   "source": [
    "# basic model with majority vote initialization\n",
    "model_basic = MDPD.MDPD_standard()\n",
    "model_basic.fit(train, ncomp=EFF_NVOCAB, init='majority', verbose=False, epoch=50, lock=lock)\n",
    "model_basic.accuracy(train, label)\n",
    "model_basic.MI_residue(train)"
   ]
  },
  {
   "cell_type": "code",
   "execution_count": null,
   "metadata": {},
   "outputs": [],
   "source": [
    "log_post = model_basic.log_posterior(train)\n",
    "score, weights = MDPD.utils.Feature_Selection.MI_score_conditional(train, log_post, rm_diag=True, lock=lock)\n",
    "score_condition = score.sum(axis=1)\n",
    "print 'Mutual Information Residue if use the true label as the posterior distribution'\n",
    "print np.sum(score_condition * weights[np.newaxis, :]) / (DIM * (DIM - 1))\n",
    "\n",
    "print 'Mutual Information Residue (within the selected features)'\n",
    "score_select = score[features[:Ntop, np.newaxis], features[:Ntop], :]\n",
    "res_select = np.sum(score_select.sum(axis=1) * weights[np.newaxis, :]) / (Ntop * (Ntop - 1))\n",
    "print res_select"
   ]
  },
  {
   "cell_type": "markdown",
   "metadata": {},
   "source": [
    "#### [Plot] Mutual Information Residue vs the Residue of the Raw Data"
   ]
  },
  {
   "cell_type": "code",
   "execution_count": null,
   "metadata": {},
   "outputs": [],
   "source": [
    "plt.figure()\n",
    "idx = np.argsort(sigma_origin)[::-1]\n",
    "for k in xrange(train.shape[2]-1 if np.any(lock) else train.shape[2]):\n",
    "    plt.plot(score_condition[idx,k]/(DIM - 1))\n",
    "plt.plot(sigma_origin[idx] / (DIM - 1), '--')\n",
    "# plot reference G statistics\n",
    "for foo in percentiles[:3]:\n",
    "    plt.plot([0, len(score)], [foo, foo], 'c--')\n",
    "plt.show()"
   ]
  },
  {
   "cell_type": "code",
   "execution_count": null,
   "metadata": {},
   "outputs": [],
   "source": [
    "plt.figure()\n",
    "plt.plot(sigma_origin[idx] / (DIM - 1), '--')\n",
    "plt.plot(np.sum(score_condition[idx,:] * weights[np.newaxis, :], axis=1) / (DIM - 1))\n",
    "# plot reference G statistics\n",
    "for foo in percentiles[:3]:\n",
    "    plt.plot([0, len(score)], [foo, foo], 'c--')\n",
    "plt.show()"
   ]
  },
  {
   "cell_type": "markdown",
   "metadata": {},
   "source": [
    "---\n",
    "## Generate Image"
   ]
  },
  {
   "cell_type": "markdown",
   "metadata": {},
   "source": [
    "#### NIPS 2018"
   ]
  },
  {
   "cell_type": "markdown",
   "metadata": {},
   "source": [
    "Missing Values"
   ]
  },
  {
   "cell_type": "code",
   "execution_count": null,
   "metadata": {},
   "outputs": [],
   "source": [
    "plt.imshow(1-train[..., -1], origin='lower', cmap='PuBu')\n",
    "plt.axis('normal')\n",
    "plt.xlabel('Worker Index', fontsize=15)\n",
    "plt.ylabel('Item Index', fontsize=15)"
   ]
  },
  {
   "cell_type": "code",
   "execution_count": null,
   "metadata": {},
   "outputs": [],
   "source": []
  },
  {
   "cell_type": "code",
   "execution_count": null,
   "metadata": {},
   "outputs": [],
   "source": [
    "train.shape"
   ]
  },
  {
   "cell_type": "code",
   "execution_count": null,
   "metadata": {},
   "outputs": [],
   "source": []
  }
 ],
 "metadata": {
  "kernelspec": {
   "display_name": "Python 3",
   "language": "python",
   "name": "python3"
  },
  "language_info": {
   "codemirror_mode": {
    "name": "ipython",
    "version": 3
   },
   "file_extension": ".py",
   "mimetype": "text/x-python",
   "name": "python",
   "nbconvert_exporter": "python",
   "pygments_lexer": "ipython3",
   "version": "3.6.5"
  }
 },
 "nbformat": 4,
 "nbformat_minor": 2
}
