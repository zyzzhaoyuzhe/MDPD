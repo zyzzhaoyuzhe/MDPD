{
 "cells": [
  {
   "cell_type": "code",
   "execution_count": 1,
   "metadata": {},
   "outputs": [],
   "source": [
    "from __future__ import division\n",
    "\n",
    "import os\n",
    "import numpy as np\n",
    "import time, timeit\n",
    "import signal\n",
    "import scipy.io as scio\n",
    "from scipy import stats\n",
    "from scipy.sparse import coo_matrix\n",
    "from MDPD import *\n",
    "from MDPD.readers import *\n",
    "from MDPD import utils\n",
    "import matplotlib.pyplot as plt\n",
    "import matplotlib"
   ]
  },
  {
   "cell_type": "markdown",
   "metadata": {},
   "source": [
    "----\n",
    "## Read Data"
   ]
  },
  {
   "cell_type": "code",
   "execution_count": null,
   "metadata": {},
   "outputs": [],
   "source": [
    "folder = '/media/vzhao/Data/crowdsourcing_datasets/bird'\n",
    "train = Crowd_Sourcing_Readers.read_data(os.path.join(folder, 'bluebird_crowd.txt'))\n",
    "label = Crowd_Sourcing_Readers.read_label(os.path.join(folder, 'bluebird_truth.txt'))\n",
    "lock = np.zeros(train.shape[1:])"
   ]
  },
  {
   "cell_type": "code",
   "execution_count": null,
   "metadata": {},
   "outputs": [],
   "source": [
    "folder = '/media/vzhao/Data/crowdsourcing_datasets/dog'\n",
    "train = Crowd_Sourcing_Readers.read_data(os.path.join(folder, 'dog_crowd.txt'))\n",
    "label = Crowd_Sourcing_Readers.read_label(os.path.join(folder, 'dog_truth.txt'))\n"
   ]
  },
  {
   "cell_type": "code",
   "execution_count": null,
   "metadata": {},
   "outputs": [],
   "source": [
    "folder = '/media/vzhao/Data/crowdsourcing_datasets/rte'\n",
    "train = Crowd_Sourcing_Readers.read_data(os.path.join(folder, 'rte_crowd.txt'))\n",
    "label = Crowd_Sourcing_Readers.read_label(os.path.join(folder, 'rte_truth.txt'))\n",
    "lock = np.zeros(train.shape[1:])\n",
    "lock[:, -1] = 1"
   ]
  },
  {
   "cell_type": "code",
   "execution_count": null,
   "metadata": {},
   "outputs": [],
   "source": [
    "folder = '/media/vzhao/Data/crowdsourcing_datasets/trec'\n",
    "train = Crowd_Sourcing_Readers.read_data(os.path.join(folder, 'trec_crowd.txt'))\n",
    "label = Crowd_Sourcing_Readers.read_label(os.path.join(folder, 'trec_truth.txt'))"
   ]
  },
  {
   "cell_type": "code",
   "execution_count": 2,
   "metadata": {},
   "outputs": [
    {
     "name": "stderr",
     "output_type": "stream",
     "text": [
      "2018-03-30 14:24:51,500 : INFO : Data has missing values. A new label is created to represent the missing values.\n",
      "2018-03-30 14:24:51,521 : INFO : The Data has 177 dimensions, 2665 samples, and 6 volcabulary size.\n"
     ]
    }
   ],
   "source": [
    "folder = '/media/vzhao/Data/crowdsourcing_datasets/web'\n",
    "train = Crowd_Sourcing_Readers.read_data(os.path.join(folder, 'web_crowd.txt'))\n",
    "label = Crowd_Sourcing_Readers.read_label(os.path.join(folder, 'web_truth.txt'))\n",
    "lock = np.zeros(train.shape[1:])\n",
    "lock[:, -1] = 1"
   ]
  },
  {
   "cell_type": "markdown",
   "metadata": {},
   "source": [
    "---\n",
    "## Analysis"
   ]
  },
  {
   "cell_type": "markdown",
   "metadata": {},
   "source": [
    "### Original Mutual Information Residue"
   ]
  },
  {
   "cell_type": "code",
   "execution_count": 3,
   "metadata": {},
   "outputs": [
    {
     "name": "stdout",
     "output_type": "stream",
     "text": [
      "0.000758252607433816\n"
     ]
    },
    {
     "name": "stderr",
     "output_type": "stream",
     "text": [
      "MDPD/utils.py:183: RuntimeWarning: divide by zero encountered in log\n",
      "  pmi = second * (np.log(second) - logfirst)\n",
      "MDPD/utils.py:183: RuntimeWarning: invalid value encountered in multiply\n",
      "  pmi = second * (np.log(second) - logfirst)\n"
     ]
    }
   ],
   "source": [
    "# Original mutual information residue (G score)\n",
    "score = MDPD.utils.Feature_Selection.MI_score(train, rm_diag=True, lock=lock)\n",
    "dim = train.shape[1]\n",
    "print np.sum(score) / (dim * (dim-1))"
   ]
  },
  {
   "cell_type": "markdown",
   "metadata": {},
   "source": [
    "### Reference G Statistics"
   ]
  },
  {
   "cell_type": "code",
   "execution_count": 4,
   "metadata": {},
   "outputs": [
    {
     "name": "stdout",
     "output_type": "stream",
     "text": [
      "Reference G statistis at [99, 95, 90, 75, 50] percentile\n",
      "[0.002128492819914516, 0.0014661778430114778, 0.001172868411101374, 0.0007707964231955565, 0.0004438975392824273]\n"
     ]
    }
   ],
   "source": [
    "percentages = [99,95,90,75,50]\n",
    "percentiles = [stats.chi2.ppf(x/100.,3) / (2 * train.shape[0]) for x in percentages]\n",
    "\n",
    "print 'Reference G statistis at {} percentile'.format(percentages)\n",
    "print percentiles"
   ]
  },
  {
   "cell_type": "markdown",
   "metadata": {},
   "source": [
    "### Mixture Model with Feature Selection Performance"
   ]
  },
  {
   "cell_type": "markdown",
   "metadata": {},
   "source": [
    "#### Feature Ranking"
   ]
  },
  {
   "cell_type": "code",
   "execution_count": 5,
   "metadata": {},
   "outputs": [
    {
     "data": {
      "text/plain": [
       "array([  2,   0,  11,   6,  15,  12,   7,   1,   3,  10,  53,  54,   8,\n",
       "        29,  62,  13,  25,  28,  64,  32,  52,  56,  78,  55,  36,  23,\n",
       "        21,  61,  77,  40,  84,  44,  35,  75,  51,  65,  33,  43,  20,\n",
       "        67,  58,  38, 100,  46,  92,  16,  83,  24,  41, 103,  39, 105,\n",
       "        74,  31,  86,  90, 117,  70,  69,  63, 109,  50,  27, 102,  17,\n",
       "        93,   5,  30, 114,  81,  71,  87,  68,  22,  19, 132,  72, 106,\n",
       "        57, 104,  26, 107,  37,  60, 134,  82,  48, 129, 124,  76,  18,\n",
       "        47,  34,  14, 142,  98,   9, 126, 108,  99, 130, 101, 145, 155,\n",
       "       118,  91, 113,  85, 120,  49,   4, 141,  89,  96, 119,  73, 140,\n",
       "       143,  59, 144, 139, 158, 127, 147, 112,  42, 135,  88,  94, 122,\n",
       "        80, 125, 138, 121, 161,  95,  45, 123, 164,  66, 128, 116, 111,\n",
       "       153,  79, 110, 165, 157, 151, 133,  97, 146, 156, 174, 168, 160,\n",
       "       115, 131, 159, 173, 150, 162, 137, 148, 167, 166, 169, 171, 176,\n",
       "       163, 172, 136, 170, 175, 149, 154, 152])"
      ]
     },
     "execution_count": 5,
     "metadata": {},
     "output_type": "execute_result"
    },
    {
     "data": {
      "image/png": "[encoded data removed]",
      "text/plain": [
       "<matplotlib.figure.Figure at 0x7f45abb3b510>"
      ]
     },
     "metadata": {},
     "output_type": "display_data"
    }
   ],
   "source": [
    "features, score = utils.Feature_Selection.MI_feature_ranking(train)\n",
    "plt.plot(score/(train.shape[1]-1))\n",
    "# plot reference G statistics\n",
    "for foo in percentiles:\n",
    "    plt.plot([0, len(score)], [foo, foo], 'c--')\n",
    "features"
   ]
  },
  {
   "cell_type": "markdown",
   "metadata": {},
   "source": [
    "#### Accuracy and Mutual Information Residue"
   ]
  },
  {
   "cell_type": "code",
   "execution_count": 6,
   "metadata": {},
   "outputs": [
    {
     "name": "stderr",
     "output_type": "stream",
     "text": [
      "2018-03-30 14:26:10,335 : INFO : Training an MDPD with dimension 9, sample size 2665, vocab size 6 and the target number of components 5\n",
      "MDPD/utils.py:100: RuntimeWarning: divide by zero encountered in log\n",
      "  log_votes = np.log(votes)\n",
      "2018-03-30 14:26:11,729 : INFO : ACCURACY: 88.74%\n",
      "MDPD/utils.py:253: RuntimeWarning: divide by zero encountered in log\n",
      "  pmi = second * (np.log(second) - log_first)\n",
      "MDPD/utils.py:253: RuntimeWarning: invalid value encountered in multiply\n",
      "  pmi = second * (np.log(second) - log_first)\n",
      "2018-03-30 14:26:13,517 : INFO : The mutual information residue is 0.000733226590835\n",
      "2018-03-30 14:26:13,518 : INFO : The mutual information residue of the feature set is -0.00983629074804\n"
     ]
    }
   ],
   "source": [
    "# Feature Selection\n",
    "Ntop = 9\n",
    "model = MDPD.MDPD()\n",
    "model.fit(train, ncomp=5, init='majority', verbose=False, features=features[:Ntop], niter=50, lock=lock)\n",
    "model.accuracy(train, label)\n",
    "model.MI_residue(train, lock)"
   ]
  },
  {
   "cell_type": "code",
   "execution_count": null,
   "metadata": {},
   "outputs": [],
   "source": [
    "# optional\n",
    "model.change_features(train, features=range(model.dim))\n",
    "model.accuracy(train, label)"
   ]
  },
  {
   "cell_type": "markdown",
   "metadata": {},
   "source": [
    "### Vanilla Model Performance\n",
    "#### Accuracy"
   ]
  },
  {
   "cell_type": "code",
   "execution_count": 7,
   "metadata": {},
   "outputs": [
    {
     "name": "stderr",
     "output_type": "stream",
     "text": [
      "2018-03-30 14:29:52,170 : INFO : Training an MDPD with dimension 177, sample size 2665, vocab size 6 and the target number of components 4\n",
      "MDPD/MDPD.py:234: RuntimeWarning: divide by zero encountered in log\n",
      "  log_margin_prob = np.log(data_selected.sum(axis=0) / data_selected.shape[0])\n",
      "2018-03-30 14:30:21,893 : INFO : ACCURACY: 82.66%\n"
     ]
    },
    {
     "data": {
      "text/plain": [
       "0.8266416510318949"
      ]
     },
     "execution_count": 7,
     "metadata": {},
     "output_type": "execute_result"
    }
   ],
   "source": [
    "# basic model with majority vote initialization\n",
    "model_basic = MDPD.MDPD()\n",
    "model_basic.fit(train, ncomp=4, init='majority', verbose=False, niter=50, lock=lock)\n",
    "model_basic.accuracy(train, label)"
   ]
  },
  {
   "cell_type": "markdown",
   "metadata": {},
   "source": [
    "#### Mutual Information Residue"
   ]
  },
  {
   "cell_type": "code",
   "execution_count": 8,
   "metadata": {},
   "outputs": [
    {
     "name": "stderr",
     "output_type": "stream",
     "text": [
      "2018-03-30 16:14:55,787 : INFO : The mutual information residue is 0.00073482327462\n",
      "2018-03-30 16:14:55,789 : INFO : The mutual information residue of the feature set is 0.00073482327462\n"
     ]
    },
    {
     "name": "stdout",
     "output_type": "stream",
     "text": [
      "MI residue conditional on the features (although basic model is using all features to learn the model)\n",
      "-0.006733611156566834\n"
     ]
    }
   ],
   "source": [
    "model_basic.MI_residue(train, lock)\n",
    "# MI residue conditional on the features (although basic model is using all features to learn the model)\n",
    "features, score = utils.Feature_Selection.MI_feature_ranking(train)\n",
    "features = np.array(features)\n",
    "log_post = model_basic.log_posterior(train)\n",
    "score, weights = utils.Feature_Selection.MI_score_conditional(train,log_post,rm_diag=True, lock=lock)\n",
    "score_selected = score[features[:Ntop, np.newaxis], features[:Ntop]]\n",
    "print 'MI residue conditional on the features (although basic model is using all features to learn the model)'\n",
    "print np.sum(score_selected.sum(axis=(0,1)) * weights) / (Ntop * (Ntop - 1))"
   ]
  },
  {
   "cell_type": "code",
   "execution_count": null,
   "metadata": {},
   "outputs": [],
   "source": []
  }
 ],
 "metadata": {
  "kernelspec": {
   "display_name": "Python 2",
   "language": "python",
   "name": "python2"
  },
  "language_info": {
   "codemirror_mode": {
    "name": "ipython",
    "version": 2
   },
   "file_extension": ".py",
   "mimetype": "text/x-python",
   "name": "python",
   "nbconvert_exporter": "python",
   "pygments_lexer": "ipython2",
   "version": "2.7.14"
  }
 },
 "nbformat": 4,
 "nbformat_minor": 2
}
