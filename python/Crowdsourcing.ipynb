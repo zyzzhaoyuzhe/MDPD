{
 "cells": [
  {
   "cell_type": "code",
   "execution_count": 4,
   "metadata": {},
   "outputs": [],
   "source": [
    "from ipywidgets import interact, interactive, fixed, interact_manual\n",
    "import ipywidgets as widgets\n",
    "from __future__ import division\n",
    "\n",
    "import os\n",
    "import numpy as np\n",
    "import time\n",
    "import signal\n",
    "import scipy.io as scio\n",
    "from scipy.sparse import coo_matrix\n",
    "from MDPD import *\n",
    "from MDPD.readers import *\n",
    "import matplotlib.pyplot as plt\n",
    "import matplotlib"
   ]
  },
  {
   "cell_type": "markdown",
   "metadata": {},
   "source": [
    "----\n",
    "## Read Data"
   ]
  },
  {
   "cell_type": "code",
   "execution_count": 5,
   "metadata": {},
   "outputs": [],
   "source": [
    "folder = '/media/vzhao/Data/crowdsourcing_datasets/bird'\n",
    "train = Crowd_Sourcing_Readers.read_data(os.path.join(folder, 'bluebird_crowd.txt'))\n",
    "label = Crowd_Sourcing_Readers.read_label(os.path.join(folder, 'bluebird_truth.txt'))"
   ]
  },
  {
   "cell_type": "code",
   "execution_count": 7,
   "metadata": {},
   "outputs": [
    {
     "name": "stderr",
     "output_type": "stream",
     "text": [
      "Traceback (most recent call last):\n",
      "  File \"/usr/lib/python2.7/logging/__init__.py\", line 861, in emit\n",
      "    msg = self.format(record)\n",
      "  File \"/usr/lib/python2.7/logging/__init__.py\", line 734, in format\n",
      "    return fmt.format(record)\n",
      "  File \"/usr/lib/python2.7/logging/__init__.py\", line 465, in format\n",
      "    record.message = record.getMessage()\n",
      "  File \"/usr/lib/python2.7/logging/__init__.py\", line 329, in getMessage\n",
      "    msg = msg % self.args\n",
      "TypeError: %d format: a number is required, not NoneType\n",
      "Logged from file MDPD.py, line 226\n",
      "2018-03-28 15:18:22,246 : INFO : iteration 0; log-likelihood -17.535398;\n",
      "2018-03-28 15:18:22,248 : INFO : iteration 1; log-likelihood -17.493472;\n",
      "2018-03-28 15:18:22,251 : INFO : iteration 2; log-likelihood -17.485623;\n",
      "2018-03-28 15:18:22,253 : INFO : iteration 3; log-likelihood -17.483747;\n",
      "2018-03-28 15:18:22,255 : INFO : iteration 4; log-likelihood -17.482978;\n",
      "2018-03-28 15:18:22,258 : INFO : iteration 5; log-likelihood -17.482689;\n",
      "2018-03-28 15:18:22,260 : INFO : iteration 6; log-likelihood -17.482599;\n",
      "2018-03-28 15:18:22,262 : INFO : iteration 7; log-likelihood -17.482572;\n",
      "2018-03-28 15:18:22,264 : INFO : iteration 8; log-likelihood -17.482565;\n",
      "2018-03-28 15:18:22,266 : INFO : iteration 9; log-likelihood -17.482563;\n",
      "2018-03-28 15:18:22,269 : INFO : iteration 10; log-likelihood -17.482563;\n",
      "2018-03-28 15:18:22,271 : INFO : iteration 11; log-likelihood -17.482563;\n",
      "2018-03-28 15:18:22,273 : INFO : iteration 12; log-likelihood -17.482563;\n",
      "2018-03-28 15:18:22,275 : INFO : iteration 13; log-likelihood -17.482563;\n",
      "2018-03-28 15:18:22,277 : INFO : iteration 14; log-likelihood -17.482563;\n",
      "2018-03-28 15:18:22,279 : INFO : iteration 15; log-likelihood -17.482563;\n",
      "2018-03-28 15:18:22,281 : INFO : iteration 16; log-likelihood -17.482563;\n",
      "2018-03-28 15:18:22,284 : INFO : iteration 17; log-likelihood -17.482563;\n",
      "2018-03-28 15:18:22,286 : INFO : iteration 18; log-likelihood -17.482563;\n",
      "2018-03-28 15:18:22,287 : INFO : iteration 19; log-likelihood -17.482563;\n",
      "2018-03-28 15:18:22,289 : INFO : iteration 20; log-likelihood -17.482563;\n",
      "2018-03-28 15:18:22,291 : INFO : iteration 21; log-likelihood -17.482563;\n",
      "2018-03-28 15:18:22,293 : INFO : iteration 22; log-likelihood -17.482563;\n",
      "2018-03-28 15:18:22,295 : INFO : iteration 23; log-likelihood -17.482563;\n",
      "2018-03-28 15:18:22,298 : INFO : iteration 24; log-likelihood -17.482563;\n",
      "2018-03-28 15:18:22,300 : INFO : iteration 25; log-likelihood -17.482563;\n",
      "2018-03-28 15:18:22,302 : INFO : iteration 26; log-likelihood -17.482563;\n",
      "2018-03-28 15:18:22,303 : INFO : iteration 27; log-likelihood -17.482563;\n",
      "2018-03-28 15:18:22,305 : INFO : iteration 28; log-likelihood -17.482563;\n",
      "2018-03-28 15:18:22,308 : INFO : iteration 29; log-likelihood -17.482563;\n",
      "2018-03-28 15:18:22,310 : INFO : ACCURACY: 89.81%\n"
     ]
    },
    {
     "data": {
      "text/plain": [
       "0.8981481481481481"
      ]
     },
     "execution_count": 7,
     "metadata": {},
     "output_type": "execute_result"
    }
   ],
   "source": [
    "model = MDPD.MDPD()\n",
    "model.fit(train, ncomp=2, verbose=True)\n",
    "model.score(train, label)"
   ]
  },
  {
   "cell_type": "code",
   "execution_count": null,
   "metadata": {},
   "outputs": [],
   "source": []
  }
 ],
 "metadata": {
  "kernelspec": {
   "display_name": "Python 2",
   "language": "python",
   "name": "python2"
  },
  "language_info": {
   "codemirror_mode": {
    "name": "ipython",
    "version": 2
   },
   "file_extension": ".py",
   "mimetype": "text/x-python",
   "name": "python",
   "nbconvert_exporter": "python",
   "pygments_lexer": "ipython2",
   "version": "2.7.14"
  }
 },
 "nbformat": 4,
 "nbformat_minor": 2
}
