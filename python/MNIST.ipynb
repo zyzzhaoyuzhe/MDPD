{
 "cells": [
  {
   "cell_type": "code",
   "execution_count": 1,
   "metadata": {},
   "outputs": [],
   "source": [
    "import time\n",
    "import scipy.io as scio\n",
    "import numpy as np\n",
    "from multiprocessing import Pool\n",
    "import sys, os\n",
    "from copy import copy\n",
    "from scipy import stats\n",
    "from scipy.special import logsumexp\n",
    "import matplotlib.pyplot as plt\n",
    "from MDPD import utils, readers, MDPD\n",
    "import pickle\n",
    "from ete3 import Tree, faces, TreeStyle"
   ]
  },
  {
   "cell_type": "markdown",
   "metadata": {},
   "source": [
    "---\n",
    "## Utilities"
   ]
  },
  {
   "cell_type": "code",
   "execution_count": 2,
   "metadata": {},
   "outputs": [],
   "source": [
    "def show_img(arrays, fig_width=2):\n",
    "    \"show image(s) in parallel\"\n",
    "    n = len(arrays)\n",
    "    plt.figure(figsize=(fig_width, fig_width * n))\n",
    "    for i in range(n):\n",
    "        plt.subplot(n, 1, i+1)\n",
    "        plt.imshow(arrays[i].reshape((28,28)))\n",
    "        plt.colorbar()\n",
    "    plt.show()"
   ]
  },
  {
   "cell_type": "code",
   "execution_count": 3,
   "metadata": {},
   "outputs": [],
   "source": [
    "def show_comps(model):\n",
    "    \"show all the components of the model\"\n",
    "    ncomp = model.ncomp\n",
    "    plt.figure(figsize=(2,2 * ncomp))\n",
    "    for k in range(ncomp):\n",
    "        plt.subplot(ncomp, 1, k+1)\n",
    "        img = np.exp(model.logC[:, 0, k])\n",
    "        plt.imshow(img.reshape((28, 28)))\n",
    "        plt.colorbar()\n",
    "    plt.show()"
   ]
  },
  {
   "cell_type": "code",
   "execution_count": 4,
   "metadata": {},
   "outputs": [],
   "source": [
    "def show_features(model):\n",
    "    \"\"\n",
    "    img = np.zeros(DIM)\n",
    "    img[model.features] = 1\n",
    "    show_img([img])\n",
    "    "
   ]
  },
  {
   "cell_type": "code",
   "execution_count": 5,
   "metadata": {},
   "outputs": [],
   "source": [
    "def show_stats(tmp_folder, fig_width=10):\n",
    "    with open(os.path.join(tmp_folder, 'training_stats.p'), 'rb') as f:\n",
    "        stats = cPickle.load(f)\n",
    "    \n",
    "    plt.figure(figsize=(fig_width, 0.3* fig_width * 2))\n",
    "    \n",
    "    plt.subplot(2,1,1)\n",
    "    plt.plot(stats['log_likelihood'])\n",
    "    plt.title('log_likelihood')\n",
    "    \n",
    "    plt.subplot(2,1,2)\n",
    "    plt.plot(stats['log_likelihood_overall'])\n",
    "    plt.title('log_likelihood_overall')\n",
    "    \n",
    "    plt.show()"
   ]
  },
  {
   "cell_type": "code",
   "execution_count": 6,
   "metadata": {},
   "outputs": [],
   "source": [
    "def save_figures_all_models(experiment_folder):\n",
    "    \"save model's visualizations to experiment_folder/images\"\n",
    "    image_dir = os.path.join(experiment_folder, 'images')\n",
    "    try:\n",
    "        os.mkdir(image_dir)\n",
    "    except:\n",
    "        pass\n",
    "    \n",
    "    model = MDPD.Hierachical_MDPD(1)\n",
    "    model.load(os.path.join(experiment_folder, 'model.p'))\n",
    "    \n",
    "    for idx in range(len(model.models)):\n",
    "        width = model.width\n",
    "        paren = int((idx - 1) / width)\n",
    "        kid = idx - paren * width\n",
    "        \n",
    "        plt.figure()\n",
    "\n",
    "        plt.subplot(1,3,1)\n",
    "        img = model.models[idx].logC[:, 0, :] + model.models[idx].logW[None, :]\n",
    "        img = np.exp(logsumexp(img,axis=1))\n",
    "        plt.imshow(img.reshape((28,28)))\n",
    "\n",
    "        plt.subplot(1,3,2)\n",
    "        score = utils.Feature_Selection.MI_score(data, sample_log_weights=model._debug[idx], rm_diag=True)\n",
    "        sigma = score.sum(axis=1) / (DIM-1)\n",
    "        plt.imshow(sigma.reshape((28, 28)))\n",
    "\n",
    "        plt.subplot(1,3,3)\n",
    "        img = np.zeros(sigma.shape)\n",
    "        cand = np.argsort(sigma)[::-1]\n",
    "        img[model.models[idx].features] = 1\n",
    "        plt.imshow(img.reshape((28,28)))\n",
    "\n",
    "        plt.savefig(os.path.join(image_dir, '{}_{}_{}'.format(idx, paren, kid)), \n",
    "                    bbox_inche='tight', transparent=True)\n",
    "        plt.close()\n",
    "        "
   ]
  },
  {
   "cell_type": "code",
   "execution_count": 40,
   "metadata": {},
   "outputs": [],
   "source": [
    "def show_tree(experiment_folder):\n",
    "    \n",
    "    model = MDPD.Hierachical_MDPD(1)\n",
    "    model.load(os.path.join(experiment_folder, 'model.p'))\n",
    "    \n",
    "    width, depth = model.width, model.depth\n",
    "    \n",
    "    root = Tree()\n",
    "    \n",
    "    cache = [(0, root)]\n",
    "    \n",
    "    for i in range(depth+1):\n",
    "        foo = []\n",
    "        \n",
    "        for idx, node in cache:\n",
    "            paren = int((idx-1) / width)\n",
    "            kid = idx - paren*width\n",
    "            face = faces.ImgFace(os.path.join(experiment_folder, 'images', '{}_{}_{}.png'.format(idx, paren, kid)))\n",
    "            node.add_face(face, 0)\n",
    "            \n",
    "            if i < depth:\n",
    "                for k in range(width):\n",
    "                    foo.append((idx*width + k + 1, node.add_child()))\n",
    "                    \n",
    "        cache = foo\n",
    "    \n",
    "    root.render(os.path.join(experiment_folder, 'images', 'tree_plot.png'))"
   ]
  },
  {
   "cell_type": "markdown",
   "metadata": {},
   "source": [
    "---\n",
    "## Read Data"
   ]
  },
  {
   "cell_type": "code",
   "execution_count": 7,
   "metadata": {},
   "outputs": [
    {
     "name": "stdout",
     "output_type": "stream",
     "text": [
      "Extracting /media/vzhao/Data/MNIST/train-images-idx3-ubyte.gz\n",
      "Extracting /media/vzhao/Data/MNIST/train-labels-idx1-ubyte.gz\n",
      "Extracting /media/vzhao/Data/MNIST/t10k-images-idx3-ubyte.gz\n",
      "Extracting /media/vzhao/Data/MNIST/t10k-labels-idx1-ubyte.gz\n"
     ]
    }
   ],
   "source": [
    "folder = \"/media/vzhao/Data/MNIST\"\n",
    "# folder = \"/Users/vincent/Documents/Research/MDPD/MNIST\"\n",
    "mnist = readers.MNIST_Reader(folder, binarized=True)\n",
    "train, labels = mnist.train, mnist.labels\n",
    "_, DIM, _ = train.shape"
   ]
  },
  {
   "cell_type": "code",
   "execution_count": 8,
   "metadata": {},
   "outputs": [],
   "source": [
    "# data per digit\n",
    "train_uni = [None] * 10\n",
    "for dig in range(10):\n",
    "    train_uni[dig] = train[labels==dig,...]\n",
    "# small sample\n",
    "train_small = train[:20000,...]\n",
    "labels_small = labels[:20000]"
   ]
  },
  {
   "cell_type": "markdown",
   "metadata": {},
   "source": [
    "### Pick a data source"
   ]
  },
  {
   "cell_type": "code",
   "execution_count": 9,
   "metadata": {},
   "outputs": [],
   "source": [
    "data, labs = train_small, labels_small"
   ]
  },
  {
   "cell_type": "markdown",
   "metadata": {},
   "source": [
    "---\n",
    "## Information residue as in raw data"
   ]
  },
  {
   "cell_type": "code",
   "execution_count": null,
   "metadata": {},
   "outputs": [],
   "source": [
    "%%time\n",
    "score_origin = utils.Feature_Selection.MI_score(data, rm_diag=True)\n",
    "sigma_origin = score_origin.sum(axis=1)\n",
    "show_img([sigma_origin])\n",
    "print 'Information residue in raw data'\n",
    "print sigma_origin.mean() / (DIM - 1)"
   ]
  },
  {
   "cell_type": "markdown",
   "metadata": {},
   "source": [
    "#### Reference G score"
   ]
  },
  {
   "cell_type": "code",
   "execution_count": null,
   "metadata": {},
   "outputs": [],
   "source": [
    "percentages = [99,95,90,75,50]\n",
    "percentiles = [stats.chi2.ppf(x/100.,3) / (2 * data.shape[0]) for x in percentages]\n",
    "print 'Reference G statistis at {} percentile'.format(percentages)\n",
    "print percentiles"
   ]
  },
  {
   "cell_type": "markdown",
   "metadata": {},
   "source": [
    "### Mutual Information Residue if ues the labels as the posterior distribution"
   ]
  },
  {
   "cell_type": "code",
   "execution_count": null,
   "metadata": {},
   "outputs": [],
   "source": [
    "# label to log_post\n",
    "def label2logpost(label, ncomp):\n",
    "    nsample = label.shape[0]\n",
    "    post = np.zeros((nsample, ncomp))\n",
    "    for i in xrange(nsample):\n",
    "        post[i, label[i]] = 1\n",
    "    return np.log(post)\n",
    "log_post = label2logpost(labs,labs.max()+1)\n",
    "utils.log_replace_neginf(log_post)"
   ]
  },
  {
   "cell_type": "code",
   "execution_count": null,
   "metadata": {},
   "outputs": [],
   "source": [
    "%%time\n",
    "score, weighted = MDPD.utils.Feature_Selection.MI_score_conditional(data, log_post, rm_diag=True)\n",
    "sigma_condition = score.sum(axis=1)\n",
    "print 'Mutual Information Residue if use the true label as the posterior distribution'\n",
    "print np.sum(sigma_condition * weighted[np.newaxis, :]) / (DIM * (DIM - 1))"
   ]
  },
  {
   "cell_type": "markdown",
   "metadata": {},
   "source": [
    "#### [Plot] Mutual Information Residue vs the Residue of the Raw Data"
   ]
  },
  {
   "cell_type": "code",
   "execution_count": null,
   "metadata": {},
   "outputs": [],
   "source": [
    "plt.figure()\n",
    "idx = np.argsort(sigma_origin)[::-1]\n",
    "for k in [0]:\n",
    "    plt.plot(sigma_condition[idx,k]/(DIM-1))\n",
    "plt.plot(sigma_origin[idx] / (DIM-1), '--')\n",
    "# plot reference G statistics\n",
    "for foo in percentiles[:3]:\n",
    "    plt.plot([0, len(score)], [foo, foo], 'c--')\n",
    "plt.show()"
   ]
  },
  {
   "cell_type": "code",
   "execution_count": null,
   "metadata": {},
   "outputs": [],
   "source": [
    "plt.figure()\n",
    "plt.plot(sigma_origin[idx] / (DIM-1), '--')\n",
    "plt.plot(np.sum(sigma_condition[idx, ...] * weighted[np.newaxis, :], axis=1) / (DIM-1))\n",
    "# plot reference G statistics\n",
    "for foo in percentiles[:3]:\n",
    "    plt.plot([0, len(score)], [foo, foo], 'c--')\n",
    "plt.show()"
   ]
  },
  {
   "cell_type": "markdown",
   "metadata": {},
   "source": [
    "#### [Plot] Mutual information residue conditional on a digit vs Raw MIS"
   ]
  },
  {
   "cell_type": "code",
   "execution_count": null,
   "metadata": {},
   "outputs": [],
   "source": [
    "show_img([sigma_origin, sigma_condition[:,1]])"
   ]
  },
  {
   "cell_type": "markdown",
   "metadata": {},
   "source": [
    "#### Conditional MIS vs Raw MIS"
   ]
  },
  {
   "cell_type": "code",
   "execution_count": null,
   "metadata": {},
   "outputs": [],
   "source": [
    "show_img([sigma_origin, np.sum(sigma_condition * weighted[np.newaxis, :], axis=1)])"
   ]
  },
  {
   "cell_type": "markdown",
   "metadata": {},
   "source": [
    "#### Conclusion\n",
    "\n",
    "A naive mixture model is not a good generative model of MNIST data set."
   ]
  },
  {
   "cell_type": "markdown",
   "metadata": {},
   "source": [
    "---\n",
    "## Train a MDPD with the selected features"
   ]
  },
  {
   "cell_type": "markdown",
   "metadata": {},
   "source": [
    "#### Batch EM"
   ]
  },
  {
   "cell_type": "code",
   "execution_count": null,
   "metadata": {},
   "outputs": [],
   "source": [
    "Ntop = 300\n",
    "model_batch = MDPD.MDPD_standard()\n",
    "model_batch.fit(data, ncomp=10, init='random', verbose=False, features=Ntop, epoch=100)"
   ]
  },
  {
   "cell_type": "code",
   "execution_count": null,
   "metadata": {},
   "outputs": [],
   "source": [
    "log_post = model_batch.log_posterior(data)\n",
    "score, weights = utils.Feature_Selection.MI_score_conditional(data, log_post, rm_diag=True)\n",
    "sigma_condition = score.sum(axis=1)\n",
    "print 'Mutual Information Residue of the model with feature selection'\n",
    "print np.sum(sigma_condition * weights[np.newaxis, :]) / (DIM * (DIM - 1))"
   ]
  },
  {
   "cell_type": "markdown",
   "metadata": {},
   "source": [
    "#### [plot] mixture component"
   ]
  },
  {
   "cell_type": "code",
   "execution_count": null,
   "metadata": {
    "scrolled": true
   },
   "outputs": [],
   "source": [
    "show_img(np.exp([model_batch.logC[:,0,i] for i in xrange(10)]), figsize=(50,50))"
   ]
  },
  {
   "cell_type": "markdown",
   "metadata": {},
   "source": [
    "#### [Plot] Conditional Information Residue vs the Residue of the Raw Data"
   ]
  },
  {
   "cell_type": "code",
   "execution_count": null,
   "metadata": {},
   "outputs": [],
   "source": [
    "plt.figure()\n",
    "idx = np.argsort(sigma_origin)[::-1]\n",
    "for k in xrange(3):\n",
    "    plt.plot(sigma_condition[idx,k]/(DIM-1))\n",
    "plt.plot(sigma_origin[idx] / (DIM-1), '--')\n",
    "# plot reference G statistics\n",
    "for foo in percentiles[:3]:\n",
    "    plt.plot([0, len(score)], [foo, foo], 'c--')\n",
    "plt.show()"
   ]
  },
  {
   "cell_type": "code",
   "execution_count": null,
   "metadata": {},
   "outputs": [],
   "source": [
    "plt.figure()\n",
    "plt.plot(sigma_origin[idx] / (DIM-1), '--')\n",
    "plt.plot(np.sum(sigma_condition[idx, ...] * weighted[np.newaxis, :], axis=1) / (DIM-1))\n",
    "# plot reference G statistics\n",
    "for foo in percentiles[:3]:\n",
    "    plt.plot([0, len(score)], [foo, foo], 'c--')\n",
    "plt.show()"
   ]
  },
  {
   "cell_type": "markdown",
   "metadata": {},
   "source": [
    "#### [Plot] Mutual information residue conditional on a digit vs Raw MIS"
   ]
  },
  {
   "cell_type": "code",
   "execution_count": null,
   "metadata": {},
   "outputs": [],
   "source": [
    "show_img([sigma_origin, sigma_condition[:,3]])"
   ]
  },
  {
   "cell_type": "code",
   "execution_count": null,
   "metadata": {},
   "outputs": [],
   "source": [
    "show_img([sigma_origin, np.sum(sigma_condition * weighted[np.newaxis, :], axis=1)])"
   ]
  },
  {
   "cell_type": "markdown",
   "metadata": {},
   "source": [
    "---\n",
    "## Hierachical MDPD"
   ]
  },
  {
   "cell_type": "code",
   "execution_count": 42,
   "metadata": {},
   "outputs": [],
   "source": [
    "experiment_folder = '/home/vzhao/Documents/Projects/MDPD/results/MNIST_hmdpd_depth_6'"
   ]
  },
  {
   "cell_type": "code",
   "execution_count": 43,
   "metadata": {},
   "outputs": [
    {
     "ename": "UnicodeDecodeError",
     "evalue": "'ascii' codec can't decode byte 0xc7 in position 8: ordinal not in range(128)",
     "output_type": "error",
     "traceback": [
      "\u001b[0;31m---------------------------------------------------------------------------\u001b[0m",
      "\u001b[0;31mUnicodeDecodeError\u001b[0m                        Traceback (most recent call last)",
      "\u001b[0;32m<ipython-input-43-2e3511279bdd>\u001b[0m in \u001b[0;36m<module>\u001b[0;34m()\u001b[0m\n\u001b[1;32m      1\u001b[0m \u001b[0mmodel\u001b[0m \u001b[0;34m=\u001b[0m \u001b[0mMDPD\u001b[0m\u001b[0;34m.\u001b[0m\u001b[0mHierachical_MDPD\u001b[0m\u001b[0;34m(\u001b[0m\u001b[0;36m1\u001b[0m\u001b[0;34m)\u001b[0m\u001b[0;34m\u001b[0m\u001b[0m\n\u001b[0;32m----> 2\u001b[0;31m \u001b[0mmodel\u001b[0m\u001b[0;34m.\u001b[0m\u001b[0mload\u001b[0m\u001b[0;34m(\u001b[0m\u001b[0mos\u001b[0m\u001b[0;34m.\u001b[0m\u001b[0mpath\u001b[0m\u001b[0;34m.\u001b[0m\u001b[0mjoin\u001b[0m\u001b[0;34m(\u001b[0m\u001b[0mexperiment_folder\u001b[0m\u001b[0;34m,\u001b[0m \u001b[0;34m'model.p'\u001b[0m\u001b[0;34m)\u001b[0m\u001b[0;34m)\u001b[0m\u001b[0;34m\u001b[0m\u001b[0m\n\u001b[0m",
      "\u001b[0;32m~/Documents/Projects/MDPD/python/MDPD/MDPD.py\u001b[0m in \u001b[0;36mload\u001b[0;34m(self, filename)\u001b[0m\n\u001b[1;32m    598\u001b[0m     \u001b[0;32mdef\u001b[0m \u001b[0mload\u001b[0m\u001b[0;34m(\u001b[0m\u001b[0mself\u001b[0m\u001b[0;34m,\u001b[0m \u001b[0mfilename\u001b[0m\u001b[0;34m)\u001b[0m\u001b[0;34m:\u001b[0m\u001b[0;34m\u001b[0m\u001b[0m\n\u001b[1;32m    599\u001b[0m         \u001b[0;32mwith\u001b[0m \u001b[0mopen\u001b[0m\u001b[0;34m(\u001b[0m\u001b[0mfilename\u001b[0m\u001b[0;34m,\u001b[0m \u001b[0;34m'rb'\u001b[0m\u001b[0;34m)\u001b[0m \u001b[0;32mas\u001b[0m \u001b[0mf\u001b[0m\u001b[0;34m:\u001b[0m\u001b[0;34m\u001b[0m\u001b[0m\n\u001b[0;32m--> 600\u001b[0;31m             \u001b[0mcache\u001b[0m \u001b[0;34m=\u001b[0m \u001b[0mpickle\u001b[0m\u001b[0;34m.\u001b[0m\u001b[0mload\u001b[0m\u001b[0;34m(\u001b[0m\u001b[0mf\u001b[0m\u001b[0;34m)\u001b[0m\u001b[0;34m\u001b[0m\u001b[0m\n\u001b[0m\u001b[1;32m    601\u001b[0m \u001b[0;34m\u001b[0m\u001b[0m\n\u001b[1;32m    602\u001b[0m         \u001b[0;32mdef\u001b[0m \u001b[0mcreate_model\u001b[0m\u001b[0;34m(\u001b[0m\u001b[0mtbl\u001b[0m\u001b[0;34m)\u001b[0m\u001b[0;34m:\u001b[0m\u001b[0;34m\u001b[0m\u001b[0m\n",
      "\u001b[0;31mUnicodeDecodeError\u001b[0m: 'ascii' codec can't decode byte 0xc7 in position 8: ordinal not in range(128)"
     ]
    }
   ],
   "source": [
    "model = MDPD.Hierachical_MDPD(1)\n",
    "model.load(os.path.join(experiment_folder, 'model.p'))"
   ]
  },
  {
   "cell_type": "markdown",
   "metadata": {},
   "source": [
    "#### Show the component of leaf models"
   ]
  },
  {
   "cell_type": "code",
   "execution_count": null,
   "metadata": {},
   "outputs": [],
   "source": [
    "for k in range(20):\n",
    "    show_comps(model.models[-k-1])"
   ]
  },
  {
   "cell_type": "markdown",
   "metadata": {},
   "source": [
    "#### Analysis of one leaf model"
   ]
  },
  {
   "cell_type": "markdown",
   "metadata": {},
   "source": [
    "**components**"
   ]
  },
  {
   "cell_type": "code",
   "execution_count": null,
   "metadata": {},
   "outputs": [],
   "source": [
    "idx = 61\n",
    "width = model.width\n",
    "paren = int((idx - 1) / width)\n",
    "kid = idx - paren * width\n",
    "\n",
    "### mean\n",
    "img = model.models[idx].logC[:, 0, :] + model.models[idx].logW[None, :]\n",
    "img = np.exp(logsumexp(img,axis=1))\n",
    "show_img([img])\n",
    "\n",
    "### components\n",
    "show_comps(model.models[idx])\n",
    "\n",
    "### feature sets\n",
    "# inf_path = model.inference_path(data)\n",
    "# sample_log_weight = inf_path[idx][:,0]\n",
    "# sample_log_weight = sample_log_weight - logsumexp(sample_log_weight)\n",
    "# score = utils.Feature_Selection.MI_score(data, sample_log_weights=sample_log_weight, rm_diag=True)\n",
    "# sigma = score.sum(axis=1) / (DIM-1)\n",
    "# show_img([sigma], fig_width=2)\n",
    "\n",
    "score = utils.Feature_Selection.MI_score(data, sample_log_weights=model._debug[idx], rm_diag=True)\n",
    "sigma = score.sum(axis=1) / (DIM-1)\n",
    "show_img([sigma], fig_width=2)\n",
    "img = np.zeros(sigma.shape)\n",
    "cand = np.argsort(sigma)[::-1]\n",
    "img[model.models[idx].features] = 1\n",
    "show_img([img])"
   ]
  },
  {
   "cell_type": "code",
   "execution_count": null,
   "metadata": {},
   "outputs": [],
   "source": [
    "save_figures_all_models(experiment_folder)"
   ]
  },
  {
   "cell_type": "markdown",
   "metadata": {},
   "source": [
    "**Tree plot**"
   ]
  },
  {
   "cell_type": "code",
   "execution_count": 13,
   "metadata": {},
   "outputs": [
    {
     "data": {
      "text/plain": [
       "5"
      ]
     },
     "execution_count": 13,
     "metadata": {},
     "output_type": "execute_result"
    }
   ],
   "source": [
    "model.depth"
   ]
  },
  {
   "cell_type": "code",
   "execution_count": 41,
   "metadata": {},
   "outputs": [],
   "source": [
    "root = show_tree(experiment_folder)\n",
    "    \n"
   ]
  },
  {
   "cell_type": "markdown",
   "metadata": {},
   "source": [
    "---\n",
    "## SandBox"
   ]
  },
  {
   "cell_type": "code",
   "execution_count": null,
   "metadata": {},
   "outputs": [],
   "source": [
    "score = utils.Feature_Selection.MI_score(data, rm_diag=True)\n",
    "sigma = score.sum(axis=1) / (DIM-1)\n",
    "cand = np.argsort(sigma)[::-1]"
   ]
  },
  {
   "cell_type": "code",
   "execution_count": null,
   "metadata": {},
   "outputs": [],
   "source": [
    "topN = 50"
   ]
  },
  {
   "cell_type": "code",
   "execution_count": null,
   "metadata": {},
   "outputs": [],
   "source": [
    "%%time\n",
    "model_online = MDPD.MDPD_online()\n",
    "model_online.fit(data, 2, features=cand[:topN], init='random', epoch=20, batch=500, verbose=False)"
   ]
  },
  {
   "cell_type": "code",
   "execution_count": null,
   "metadata": {},
   "outputs": [],
   "source": [
    "print len(model_online.features)\n",
    "show_comps(model_online)\n",
    "show_features(model_online)"
   ]
  },
  {
   "cell_type": "code",
   "execution_count": null,
   "metadata": {},
   "outputs": [],
   "source": [
    "tmp_folder = '/home/vzhao/Documents/Projects/MDPD/tmpyfxdvd'\n",
    "show_stats(tmp_folder)"
   ]
  },
  {
   "cell_type": "code",
   "execution_count": null,
   "metadata": {},
   "outputs": [],
   "source": [
    "%%time\n",
    "model_standard = MDPD.MDPD_standard()\n",
    "model_standard.fit(data, 2, features=cand[:topN], init='random', epoch=20, verbose=False)"
   ]
  },
  {
   "cell_type": "code",
   "execution_count": null,
   "metadata": {},
   "outputs": [],
   "source": []
  },
  {
   "cell_type": "code",
   "execution_count": null,
   "metadata": {},
   "outputs": [],
   "source": [
    "# with open(os.path.join(tmp_folder, 'training_stats.p'), 'rb') as f:\n",
    "#     stats = cPickle.load(f)"
   ]
  },
  {
   "cell_type": "code",
   "execution_count": null,
   "metadata": {},
   "outputs": [],
   "source": [
    "tmp_folder = '/home/vzhao/Documents/Projects/MDPD/tmplbNHtY'\n",
    "show_stats(tmp_folder)"
   ]
  },
  {
   "cell_type": "code",
   "execution_count": null,
   "metadata": {},
   "outputs": [],
   "source": [
    "print len(model_standard.features)\n",
    "show_comps(model_standard)\n",
    "show_features(model_standard)"
   ]
  },
  {
   "cell_type": "code",
   "execution_count": null,
   "metadata": {},
   "outputs": [],
   "source": [
    "tmp_folder = ''"
   ]
  },
  {
   "cell_type": "code",
   "execution_count": null,
   "metadata": {},
   "outputs": [],
   "source": [
    "model_standard = MDPD.MDPD_standard()\n",
    "model_standard.fit(data, 2, features=cand[:topN], init='random', epoch=100, verbose=True)"
   ]
  },
  {
   "cell_type": "code",
   "execution_count": null,
   "metadata": {},
   "outputs": [],
   "source": [
    "print len(model_standard.features)\n",
    "show_comps(model_standard)\n",
    "show_features(model_standard)"
   ]
  }
 ],
 "metadata": {
  "kernelspec": {
   "display_name": "Python 3",
   "language": "python",
   "name": "python3"
  },
  "language_info": {
   "codemirror_mode": {
    "name": "ipython",
    "version": 3
   },
   "file_extension": ".py",
   "mimetype": "text/x-python",
   "name": "python",
   "nbconvert_exporter": "python",
   "pygments_lexer": "ipython3",
   "version": "3.6.5"
  }
 },
 "nbformat": 4,
 "nbformat_minor": 2
}
