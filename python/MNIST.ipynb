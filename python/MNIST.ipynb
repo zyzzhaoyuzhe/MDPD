{
 "cells": [
  {
   "cell_type": "code",
   "execution_count": 1,
   "metadata": {},
   "outputs": [],
   "source": [
    "import time\n",
    "import scipy.io as scio\n",
    "import numpy as np\n",
    "from multiprocessing import Pool\n",
    "import sys\n",
    "from copy import copy\n",
    "from scipy import stats\n",
    "import matplotlib.pyplot as plt\n",
    "from MDPD import utils, readers, MDPD"
   ]
  },
  {
   "cell_type": "markdown",
   "metadata": {},
   "source": [
    "## Read Data"
   ]
  },
  {
   "cell_type": "code",
   "execution_count": 2,
   "metadata": {},
   "outputs": [
    {
     "name": "stdout",
     "output_type": "stream",
     "text": [
      "Extracting /media/vzhao/Data/MNIST/train-images-idx3-ubyte.gz\n",
      "Extracting /media/vzhao/Data/MNIST/train-labels-idx1-ubyte.gz\n",
      "Extracting /media/vzhao/Data/MNIST/t10k-images-idx3-ubyte.gz\n",
      "Extracting /media/vzhao/Data/MNIST/t10k-labels-idx1-ubyte.gz\n"
     ]
    }
   ],
   "source": [
    "folder = \"/media/vzhao/Data/MNIST\"\n",
    "mnist = readers.MNIST_Reader(folder, binarized=True)\n",
    "train, labels = mnist.train, mnist.labels\n",
    "_, dim, _ = train.shape"
   ]
  },
  {
   "cell_type": "markdown",
   "metadata": {},
   "source": [
    "## Information residue as in raw data"
   ]
  },
  {
   "cell_type": "code",
   "execution_count": 3,
   "metadata": {},
   "outputs": [],
   "source": [
    "nsample = 1000"
   ]
  },
  {
   "cell_type": "code",
   "execution_count": 5,
   "metadata": {},
   "outputs": [
    {
     "data": {
      "text/plain": [
       "<matplotlib.image.AxesImage at 0x7f02ea296d90>"
      ]
     },
     "execution_count": 5,
     "metadata": {},
     "output_type": "execute_result"
    },
    {
     "data": {
      "image/png": "[encoded data removed]",
      "text/plain": [
       "<matplotlib.figure.Figure at 0x7f02ea3cb410>"
      ]
     },
     "metadata": {},
     "output_type": "display_data"
    }
   ],
   "source": [
    "features, sigma = utils.Feature_Selection.MI_feature_ranking(train[:nsample,...])\n",
    "plt.imshow(sigma[np.argsort(features)].reshape((28,28)))"
   ]
  },
  {
   "cell_type": "code",
   "execution_count": 6,
   "metadata": {},
   "outputs": [
    {
     "name": "stdout",
     "output_type": "stream",
     "text": [
      "Reference G statistis at [99, 95, 90, 75, 50] percentile\n",
      "[0.005672433365072185, 0.003907363951625588, 0.0031256943155851613, 0.002054172467816158, 0.0011829869421876688]\n"
     ]
    },
    {
     "data": {
      "image/png": "[encoded data removed]",
      "text/plain": [
       "<matplotlib.figure.Figure at 0x7f02ea272750>"
      ]
     },
     "metadata": {},
     "output_type": "display_data"
    }
   ],
   "source": [
    "percentages = [99,95,90,75,50]\n",
    "percentiles = [stats.chi2.ppf(x/100.,3) / (2 * nsample) for x in percentages]\n",
    "print 'Reference G statistis at {} percentile'.format(percentages)\n",
    "print percentiles\n",
    "\n",
    "plt.plot(sigma/(dim - 1))\n",
    "# plot reference G statistics\n",
    "for foo in percentiles:\n",
    "    plt.plot([0, len(sigma)], [foo, foo], 'c--')"
   ]
  },
  {
   "cell_type": "code",
   "execution_count": 7,
   "metadata": {},
   "outputs": [
    {
     "data": {
      "text/plain": [
       "<matplotlib.image.AxesImage at 0x7f02e81df310>"
      ]
     },
     "execution_count": 7,
     "metadata": {},
     "output_type": "execute_result"
    },
    {
     "data": {
      "image/png": "[encoded data removed]",
      "text/plain": [
       "<matplotlib.figure.Figure at 0x7f02ea2b0510>"
      ]
     },
     "metadata": {},
     "output_type": "display_data"
    }
   ],
   "source": [
    "Ntop = 200\n",
    "img = np.zeros(dim)\n",
    "img[features[:Ntop]] = 1\n",
    "plt.imshow(img.reshape((28,28)))"
   ]
  },
  {
   "cell_type": "markdown",
   "metadata": {},
   "source": [
    "## Train a MDPD with the selected features"
   ]
  },
  {
   "cell_type": "code",
   "execution_count": 8,
   "metadata": {},
   "outputs": [
    {
     "name": "stderr",
     "output_type": "stream",
     "text": [
      "2018-04-02 15:21:49,902 : INFO : Training an MDPD with dimension 200, sample size 55000, vocab size 2 and the target number of components 10\n"
     ]
    }
   ],
   "source": [
    "model1 = MDPD.MDPD()\n",
    "model1.fit(train, ncomp=10, init='random', verbose=True, features=features[:Ntop], niter=50)"
   ]
  },
  {
   "cell_type": "code",
   "execution_count": 9,
   "metadata": {},
   "outputs": [
    {
     "data": {
      "text/plain": [
       "array([-2.60503232, -2.07847858, -2.14629764, -2.32090337, -2.10165846,\n",
       "       -2.63413508, -2.41826365, -2.07554472, -2.32987009, -2.52609588])"
      ]
     },
     "execution_count": 9,
     "metadata": {},
     "output_type": "execute_result"
    }
   ],
   "source": [
    "model1.logW"
   ]
  },
  {
   "cell_type": "code",
   "execution_count": 15,
   "metadata": {},
   "outputs": [
    {
     "data": {
      "text/plain": [
       "<matplotlib.image.AxesImage at 0x7f02e813be90>"
      ]
     },
     "execution_count": 15,
     "metadata": {},
     "output_type": "execute_result"
    },
    {
     "data": {
      "image/png": "[encoded data removed]",
      "text/plain": [
       "<matplotlib.figure.Figure at 0x7f02e820da90>"
      ]
     },
     "metadata": {},
     "output_type": "display_data"
    }
   ],
   "source": [
    "img = np.zeros(dim)\n",
    "img[features[:Ntop]] = np.exp(model1.logC[:,0,1])\n",
    "plt.imshow(img.reshape((28,28)))"
   ]
  },
  {
   "cell_type": "code",
   "execution_count": 13,
   "metadata": {},
   "outputs": [
    {
     "data": {
      "text/plain": [
       "(200,)"
      ]
     },
     "execution_count": 13,
     "metadata": {},
     "output_type": "execute_result"
    }
   ],
   "source": [
    "foo.shape"
   ]
  },
  {
   "cell_type": "code",
   "execution_count": null,
   "metadata": {},
   "outputs": [],
   "source": []
  }
 ],
 "metadata": {
  "kernelspec": {
   "display_name": "Python 2",
   "language": "python",
   "name": "python2"
  },
  "language_info": {
   "codemirror_mode": {
    "name": "ipython",
    "version": 2
   },
   "file_extension": ".py",
   "mimetype": "text/x-python",
   "name": "python",
   "nbconvert_exporter": "python",
   "pygments_lexer": "ipython2",
   "version": "2.7.10"
  }
 },
 "nbformat": 4,
 "nbformat_minor": 2
}
